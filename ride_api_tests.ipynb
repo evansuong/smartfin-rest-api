{
 "cells": [
  {
   "cell_type": "markdown",
   "metadata": {},
   "source": [
    "# Smartfin Ride API\n",
    "The Smartfin Ride API makes it quick and easy to obtain smartfin ride data using a Django REST API. \n",
    "\n",
    "All ride queries go through the ride endpoint, so all urls should be in the format:\n",
    "\"[domain name]/ride/\""
   ]
  },
  {
   "cell_type": "code",
   "execution_count": 1,
   "metadata": {},
   "outputs": [],
   "source": [
    "base_url_example = f'http://127.0.0.1:8000/ride/'"
   ]
  },
  {
   "cell_type": "markdown",
   "metadata": {},
   "source": [
    "you can add \"many/\" to the url, causing it to return multiple random rides worth of Smartfin data, and you can specify how many by inputting that number to the url as well along with the request's regular parameters. \n",
    "\n",
    "Here is an example of the url for retrieving the smartfinHeight of 20 rides:"
   ]
  },
  {
   "cell_type": "code",
   "execution_count": 2,
   "metadata": {},
   "outputs": [],
   "source": [
    "fieldGetManyExample =  f'http://127.0.0.1:8000/ride/many/field-get/heightSmartfin/20'"
   ]
  },
  {
   "cell_type": "markdown",
   "metadata": {},
   "source": [
    "if you just want to get one ride's worth of data, don't add \"many/\" to the url and just pass in the ride id instead of the count. Here is the same query but for one ride:"
   ]
  },
  {
   "cell_type": "code",
   "execution_count": 3,
   "metadata": {},
   "outputs": [],
   "source": [
    "rideId = '15692'\n",
    "field = 'heightSmartfin'\n",
    "fieldGetSingleExample = f'http://127.0.0.1:8000/ride/field-get/{rideId}/{field}/'"
   ]
  },
  {
   "cell_type": "markdown",
   "metadata": {},
   "source": [
    "## EXAMPLES OF EACH FUNCTION"
   ]
  },
  {
   "cell_type": "code",
   "execution_count": 1,
   "metadata": {},
   "outputs": [],
   "source": [
    "# imports\n",
    "import requests\n",
    "import pandas as pd\n",
    "from io import StringIO"
   ]
  },
  {
   "cell_type": "markdown",
   "metadata": {},
   "source": [
    "## URLs"
   ]
  },
  {
   "cell_type": "markdown",
   "metadata": {},
   "source": [
    "'List all ride ids': '/ride-list/',\n",
    "\n",
    "'Get single ride': '/ride-get/<str:rideId>/',\n",
    "\n",
    "'Get random set of rides': '/many/ride-get/<int:count>/',\n",
    "\n",
    "'Filter rides by location': '/location/ride-get/<str:location>/',\n",
    "\n",
    "'Filter rides by date': '/date/ride-get/<str:startDate>/<str:endDate>/',\n",
    "\n",
    "'Get single ride attribute': 'field-get/<str:rideId>/<str:fields>/',\n",
    "\n",
    "'Get attributes of random set of rides': 'random/field-get/<int:count>/<str:fields>/',\n",
    "\n",
    "'Get attributes of rides filtered by location': 'location/field-get/<str:location>/<str:fields>/', \n",
    "\n",
    "'Get attributes of rides filtered by date': 'date/field-get/<str:startDate>/<str:endDate>/<str:fields>/',\n",
    "\n",
    "'Update heights of all rides in database': 'update-heights/',\n",
    "'Get list of active CDIP buoys': 'buoy-list/'"
   ]
  },
  {
   "cell_type": "code",
   "execution_count": 2,
   "metadata": {},
   "outputs": [],
   "source": [
    "testing = True # determines what url we are requesting from"
   ]
  },
  {
   "cell_type": "markdown",
   "metadata": {},
   "source": [
    "## Create / Get New Ride(s)\n",
    "This query takes a rideId parameter and searches the database for that ride. If it doesn't exist then a new ride is created and all the data is uploaded and returned as a response. If the ride exists, then it just gets returned as a response. The actual data can be extracted from the response object using response.json() which formats the data as a python dictionary"
   ]
  },
  {
   "cell_type": "code",
   "execution_count": 115,
   "metadata": {},
   "outputs": [],
   "source": [
    "rideId = '15692'\n",
    "count = 0\n",
    "location = 'San Diego'\n",
    "startDate = '1541030400'\n",
    "endDate = '1552566400'\n",
    "\n",
    "if testing:\n",
    "    rideGetSingle = f'http://127.0.0.1:8000/ride/ride-get/{rideId}/' # creates new ride and upload all ride data to db\n",
    "    rideGetRandom = f'http://127.0.0.1:8000/ride/random/ride-get/{count}/' # creates new ride and upload all ride data to db\n",
    "    rideGetLocation = f'http://127.0.0.1:8000/ride/location/ride-get/{location}/' # creates new ride and upload all ride data to db\n",
    "    rideGetDate = f'http://127.0.0.1:8000/ride/date/ride-get/{startDate}/{endDate}/' # creates new ride and upload all ride data to db\n",
    "else:\n",
    "    rideGetSingle = f'https://lit-sands-95859.herokuapp.com/ride/ride-get/{rideId}' # creates new ride and upload all ride data to db\n",
    "    rideGetRandom = f'https://lit-sands-95859.herokuapp.com/ride/random/ride-get/{count}' # creates new ride and upload all ride data to db\n",
    "    rideGetLocation = f'https://lit-sands-95859.herokuapp.com/ride/location/ride-get/{location}/' # creates new ride and upload all ride data to db\n",
    "    rideGetDate = f'https://lit-sands-95859.herokuapp.com/ride/date/ride-get/{startDate}/{endDate}/' # creates new ride and upload all r"
   ]
  },
  {
   "cell_type": "markdown",
   "metadata": {},
   "source": [
    "### get single ride by id"
   ]
  },
  {
   "cell_type": "code",
   "execution_count": 117,
   "metadata": {
    "scrolled": true
   },
   "outputs": [
    {
     "ename": "ConnectionError",
     "evalue": "HTTPConnectionPool(host='127.0.0.1', port=8000): Max retries exceeded with url: /ride/ride-get/15692/ (Caused by NewConnectionError('<urllib3.connection.HTTPConnection object at 0x000001D18784D700>: Failed to establish a new connection: [WinError 10061] No connection could be made because the target machine actively refused it'))",
     "output_type": "error",
     "traceback": [
      "\u001b[1;31m---------------------------------------------------------------------------\u001b[0m",
      "\u001b[1;31mConnectionRefusedError\u001b[0m                    Traceback (most recent call last)",
      "\u001b[1;32m~\\anaconda3\\lib\\site-packages\\urllib3\\connection.py\u001b[0m in \u001b[0;36m_new_conn\u001b[1;34m(self)\u001b[0m\n\u001b[0;32m    158\u001b[0m         \u001b[1;32mtry\u001b[0m\u001b[1;33m:\u001b[0m\u001b[1;33m\u001b[0m\u001b[1;33m\u001b[0m\u001b[0m\n\u001b[1;32m--> 159\u001b[1;33m             conn = connection.create_connection(\n\u001b[0m\u001b[0;32m    160\u001b[0m                 \u001b[1;33m(\u001b[0m\u001b[0mself\u001b[0m\u001b[1;33m.\u001b[0m\u001b[0m_dns_host\u001b[0m\u001b[1;33m,\u001b[0m \u001b[0mself\u001b[0m\u001b[1;33m.\u001b[0m\u001b[0mport\u001b[0m\u001b[1;33m)\u001b[0m\u001b[1;33m,\u001b[0m \u001b[0mself\u001b[0m\u001b[1;33m.\u001b[0m\u001b[0mtimeout\u001b[0m\u001b[1;33m,\u001b[0m \u001b[1;33m**\u001b[0m\u001b[0mextra_kw\u001b[0m\u001b[1;33m\u001b[0m\u001b[1;33m\u001b[0m\u001b[0m\n",
      "\u001b[1;32m~\\anaconda3\\lib\\site-packages\\urllib3\\util\\connection.py\u001b[0m in \u001b[0;36mcreate_connection\u001b[1;34m(address, timeout, source_address, socket_options)\u001b[0m\n\u001b[0;32m     83\u001b[0m     \u001b[1;32mif\u001b[0m \u001b[0merr\u001b[0m \u001b[1;32mis\u001b[0m \u001b[1;32mnot\u001b[0m \u001b[1;32mNone\u001b[0m\u001b[1;33m:\u001b[0m\u001b[1;33m\u001b[0m\u001b[1;33m\u001b[0m\u001b[0m\n\u001b[1;32m---> 84\u001b[1;33m         \u001b[1;32mraise\u001b[0m \u001b[0merr\u001b[0m\u001b[1;33m\u001b[0m\u001b[1;33m\u001b[0m\u001b[0m\n\u001b[0m\u001b[0;32m     85\u001b[0m \u001b[1;33m\u001b[0m\u001b[0m\n",
      "\u001b[1;32m~\\anaconda3\\lib\\site-packages\\urllib3\\util\\connection.py\u001b[0m in \u001b[0;36mcreate_connection\u001b[1;34m(address, timeout, source_address, socket_options)\u001b[0m\n\u001b[0;32m     73\u001b[0m                 \u001b[0msock\u001b[0m\u001b[1;33m.\u001b[0m\u001b[0mbind\u001b[0m\u001b[1;33m(\u001b[0m\u001b[0msource_address\u001b[0m\u001b[1;33m)\u001b[0m\u001b[1;33m\u001b[0m\u001b[1;33m\u001b[0m\u001b[0m\n\u001b[1;32m---> 74\u001b[1;33m             \u001b[0msock\u001b[0m\u001b[1;33m.\u001b[0m\u001b[0mconnect\u001b[0m\u001b[1;33m(\u001b[0m\u001b[0msa\u001b[0m\u001b[1;33m)\u001b[0m\u001b[1;33m\u001b[0m\u001b[1;33m\u001b[0m\u001b[0m\n\u001b[0m\u001b[0;32m     75\u001b[0m             \u001b[1;32mreturn\u001b[0m \u001b[0msock\u001b[0m\u001b[1;33m\u001b[0m\u001b[1;33m\u001b[0m\u001b[0m\n",
      "\u001b[1;31mConnectionRefusedError\u001b[0m: [WinError 10061] No connection could be made because the target machine actively refused it",
      "\nDuring handling of the above exception, another exception occurred:\n",
      "\u001b[1;31mNewConnectionError\u001b[0m                        Traceback (most recent call last)",
      "\u001b[1;32m~\\anaconda3\\lib\\site-packages\\urllib3\\connectionpool.py\u001b[0m in \u001b[0;36murlopen\u001b[1;34m(self, method, url, body, headers, retries, redirect, assert_same_host, timeout, pool_timeout, release_conn, chunked, body_pos, **response_kw)\u001b[0m\n\u001b[0;32m    669\u001b[0m             \u001b[1;31m# Make the request on the httplib connection object.\u001b[0m\u001b[1;33m\u001b[0m\u001b[1;33m\u001b[0m\u001b[1;33m\u001b[0m\u001b[0m\n\u001b[1;32m--> 670\u001b[1;33m             httplib_response = self._make_request(\n\u001b[0m\u001b[0;32m    671\u001b[0m                 \u001b[0mconn\u001b[0m\u001b[1;33m,\u001b[0m\u001b[1;33m\u001b[0m\u001b[1;33m\u001b[0m\u001b[0m\n",
      "\u001b[1;32m~\\anaconda3\\lib\\site-packages\\urllib3\\connectionpool.py\u001b[0m in \u001b[0;36m_make_request\u001b[1;34m(self, conn, method, url, timeout, chunked, **httplib_request_kw)\u001b[0m\n\u001b[0;32m    391\u001b[0m         \u001b[1;32melse\u001b[0m\u001b[1;33m:\u001b[0m\u001b[1;33m\u001b[0m\u001b[1;33m\u001b[0m\u001b[0m\n\u001b[1;32m--> 392\u001b[1;33m             \u001b[0mconn\u001b[0m\u001b[1;33m.\u001b[0m\u001b[0mrequest\u001b[0m\u001b[1;33m(\u001b[0m\u001b[0mmethod\u001b[0m\u001b[1;33m,\u001b[0m \u001b[0murl\u001b[0m\u001b[1;33m,\u001b[0m \u001b[1;33m**\u001b[0m\u001b[0mhttplib_request_kw\u001b[0m\u001b[1;33m)\u001b[0m\u001b[1;33m\u001b[0m\u001b[1;33m\u001b[0m\u001b[0m\n\u001b[0m\u001b[0;32m    393\u001b[0m \u001b[1;33m\u001b[0m\u001b[0m\n",
      "\u001b[1;32m~\\anaconda3\\lib\\http\\client.py\u001b[0m in \u001b[0;36mrequest\u001b[1;34m(self, method, url, body, headers, encode_chunked)\u001b[0m\n\u001b[0;32m   1239\u001b[0m         \u001b[1;34m\"\"\"Send a complete request to the server.\"\"\"\u001b[0m\u001b[1;33m\u001b[0m\u001b[1;33m\u001b[0m\u001b[0m\n\u001b[1;32m-> 1240\u001b[1;33m         \u001b[0mself\u001b[0m\u001b[1;33m.\u001b[0m\u001b[0m_send_request\u001b[0m\u001b[1;33m(\u001b[0m\u001b[0mmethod\u001b[0m\u001b[1;33m,\u001b[0m \u001b[0murl\u001b[0m\u001b[1;33m,\u001b[0m \u001b[0mbody\u001b[0m\u001b[1;33m,\u001b[0m \u001b[0mheaders\u001b[0m\u001b[1;33m,\u001b[0m \u001b[0mencode_chunked\u001b[0m\u001b[1;33m)\u001b[0m\u001b[1;33m\u001b[0m\u001b[1;33m\u001b[0m\u001b[0m\n\u001b[0m\u001b[0;32m   1241\u001b[0m \u001b[1;33m\u001b[0m\u001b[0m\n",
      "\u001b[1;32m~\\anaconda3\\lib\\http\\client.py\u001b[0m in \u001b[0;36m_send_request\u001b[1;34m(self, method, url, body, headers, encode_chunked)\u001b[0m\n\u001b[0;32m   1285\u001b[0m             \u001b[0mbody\u001b[0m \u001b[1;33m=\u001b[0m \u001b[0m_encode\u001b[0m\u001b[1;33m(\u001b[0m\u001b[0mbody\u001b[0m\u001b[1;33m,\u001b[0m \u001b[1;34m'body'\u001b[0m\u001b[1;33m)\u001b[0m\u001b[1;33m\u001b[0m\u001b[1;33m\u001b[0m\u001b[0m\n\u001b[1;32m-> 1286\u001b[1;33m         \u001b[0mself\u001b[0m\u001b[1;33m.\u001b[0m\u001b[0mendheaders\u001b[0m\u001b[1;33m(\u001b[0m\u001b[0mbody\u001b[0m\u001b[1;33m,\u001b[0m \u001b[0mencode_chunked\u001b[0m\u001b[1;33m=\u001b[0m\u001b[0mencode_chunked\u001b[0m\u001b[1;33m)\u001b[0m\u001b[1;33m\u001b[0m\u001b[1;33m\u001b[0m\u001b[0m\n\u001b[0m\u001b[0;32m   1287\u001b[0m \u001b[1;33m\u001b[0m\u001b[0m\n",
      "\u001b[1;32m~\\anaconda3\\lib\\http\\client.py\u001b[0m in \u001b[0;36mendheaders\u001b[1;34m(self, message_body, encode_chunked)\u001b[0m\n\u001b[0;32m   1234\u001b[0m             \u001b[1;32mraise\u001b[0m \u001b[0mCannotSendHeader\u001b[0m\u001b[1;33m(\u001b[0m\u001b[1;33m)\u001b[0m\u001b[1;33m\u001b[0m\u001b[1;33m\u001b[0m\u001b[0m\n\u001b[1;32m-> 1235\u001b[1;33m         \u001b[0mself\u001b[0m\u001b[1;33m.\u001b[0m\u001b[0m_send_output\u001b[0m\u001b[1;33m(\u001b[0m\u001b[0mmessage_body\u001b[0m\u001b[1;33m,\u001b[0m \u001b[0mencode_chunked\u001b[0m\u001b[1;33m=\u001b[0m\u001b[0mencode_chunked\u001b[0m\u001b[1;33m)\u001b[0m\u001b[1;33m\u001b[0m\u001b[1;33m\u001b[0m\u001b[0m\n\u001b[0m\u001b[0;32m   1236\u001b[0m \u001b[1;33m\u001b[0m\u001b[0m\n",
      "\u001b[1;32m~\\anaconda3\\lib\\http\\client.py\u001b[0m in \u001b[0;36m_send_output\u001b[1;34m(self, message_body, encode_chunked)\u001b[0m\n\u001b[0;32m   1005\u001b[0m         \u001b[1;32mdel\u001b[0m \u001b[0mself\u001b[0m\u001b[1;33m.\u001b[0m\u001b[0m_buffer\u001b[0m\u001b[1;33m[\u001b[0m\u001b[1;33m:\u001b[0m\u001b[1;33m]\u001b[0m\u001b[1;33m\u001b[0m\u001b[1;33m\u001b[0m\u001b[0m\n\u001b[1;32m-> 1006\u001b[1;33m         \u001b[0mself\u001b[0m\u001b[1;33m.\u001b[0m\u001b[0msend\u001b[0m\u001b[1;33m(\u001b[0m\u001b[0mmsg\u001b[0m\u001b[1;33m)\u001b[0m\u001b[1;33m\u001b[0m\u001b[1;33m\u001b[0m\u001b[0m\n\u001b[0m\u001b[0;32m   1007\u001b[0m \u001b[1;33m\u001b[0m\u001b[0m\n",
      "\u001b[1;32m~\\anaconda3\\lib\\http\\client.py\u001b[0m in \u001b[0;36msend\u001b[1;34m(self, data)\u001b[0m\n\u001b[0;32m    945\u001b[0m             \u001b[1;32mif\u001b[0m \u001b[0mself\u001b[0m\u001b[1;33m.\u001b[0m\u001b[0mauto_open\u001b[0m\u001b[1;33m:\u001b[0m\u001b[1;33m\u001b[0m\u001b[1;33m\u001b[0m\u001b[0m\n\u001b[1;32m--> 946\u001b[1;33m                 \u001b[0mself\u001b[0m\u001b[1;33m.\u001b[0m\u001b[0mconnect\u001b[0m\u001b[1;33m(\u001b[0m\u001b[1;33m)\u001b[0m\u001b[1;33m\u001b[0m\u001b[1;33m\u001b[0m\u001b[0m\n\u001b[0m\u001b[0;32m    947\u001b[0m             \u001b[1;32melse\u001b[0m\u001b[1;33m:\u001b[0m\u001b[1;33m\u001b[0m\u001b[1;33m\u001b[0m\u001b[0m\n",
      "\u001b[1;32m~\\anaconda3\\lib\\site-packages\\urllib3\\connection.py\u001b[0m in \u001b[0;36mconnect\u001b[1;34m(self)\u001b[0m\n\u001b[0;32m    186\u001b[0m     \u001b[1;32mdef\u001b[0m \u001b[0mconnect\u001b[0m\u001b[1;33m(\u001b[0m\u001b[0mself\u001b[0m\u001b[1;33m)\u001b[0m\u001b[1;33m:\u001b[0m\u001b[1;33m\u001b[0m\u001b[1;33m\u001b[0m\u001b[0m\n\u001b[1;32m--> 187\u001b[1;33m         \u001b[0mconn\u001b[0m \u001b[1;33m=\u001b[0m \u001b[0mself\u001b[0m\u001b[1;33m.\u001b[0m\u001b[0m_new_conn\u001b[0m\u001b[1;33m(\u001b[0m\u001b[1;33m)\u001b[0m\u001b[1;33m\u001b[0m\u001b[1;33m\u001b[0m\u001b[0m\n\u001b[0m\u001b[0;32m    188\u001b[0m         \u001b[0mself\u001b[0m\u001b[1;33m.\u001b[0m\u001b[0m_prepare_conn\u001b[0m\u001b[1;33m(\u001b[0m\u001b[0mconn\u001b[0m\u001b[1;33m)\u001b[0m\u001b[1;33m\u001b[0m\u001b[1;33m\u001b[0m\u001b[0m\n",
      "\u001b[1;32m~\\anaconda3\\lib\\site-packages\\urllib3\\connection.py\u001b[0m in \u001b[0;36m_new_conn\u001b[1;34m(self)\u001b[0m\n\u001b[0;32m    170\u001b[0m         \u001b[1;32mexcept\u001b[0m \u001b[0mSocketError\u001b[0m \u001b[1;32mas\u001b[0m \u001b[0me\u001b[0m\u001b[1;33m:\u001b[0m\u001b[1;33m\u001b[0m\u001b[1;33m\u001b[0m\u001b[0m\n\u001b[1;32m--> 171\u001b[1;33m             raise NewConnectionError(\n\u001b[0m\u001b[0;32m    172\u001b[0m                 \u001b[0mself\u001b[0m\u001b[1;33m,\u001b[0m \u001b[1;34m\"Failed to establish a new connection: %s\"\u001b[0m \u001b[1;33m%\u001b[0m \u001b[0me\u001b[0m\u001b[1;33m\u001b[0m\u001b[1;33m\u001b[0m\u001b[0m\n",
      "\u001b[1;31mNewConnectionError\u001b[0m: <urllib3.connection.HTTPConnection object at 0x000001D18784D700>: Failed to establish a new connection: [WinError 10061] No connection could be made because the target machine actively refused it",
      "\nDuring handling of the above exception, another exception occurred:\n",
      "\u001b[1;31mMaxRetryError\u001b[0m                             Traceback (most recent call last)",
      "\u001b[1;32m~\\anaconda3\\lib\\site-packages\\requests\\adapters.py\u001b[0m in \u001b[0;36msend\u001b[1;34m(self, request, stream, timeout, verify, cert, proxies)\u001b[0m\n\u001b[0;32m    438\u001b[0m             \u001b[1;32mif\u001b[0m \u001b[1;32mnot\u001b[0m \u001b[0mchunked\u001b[0m\u001b[1;33m:\u001b[0m\u001b[1;33m\u001b[0m\u001b[1;33m\u001b[0m\u001b[0m\n\u001b[1;32m--> 439\u001b[1;33m                 resp = conn.urlopen(\n\u001b[0m\u001b[0;32m    440\u001b[0m                     \u001b[0mmethod\u001b[0m\u001b[1;33m=\u001b[0m\u001b[0mrequest\u001b[0m\u001b[1;33m.\u001b[0m\u001b[0mmethod\u001b[0m\u001b[1;33m,\u001b[0m\u001b[1;33m\u001b[0m\u001b[1;33m\u001b[0m\u001b[0m\n",
      "\u001b[1;32m~\\anaconda3\\lib\\site-packages\\urllib3\\connectionpool.py\u001b[0m in \u001b[0;36murlopen\u001b[1;34m(self, method, url, body, headers, retries, redirect, assert_same_host, timeout, pool_timeout, release_conn, chunked, body_pos, **response_kw)\u001b[0m\n\u001b[0;32m    723\u001b[0m \u001b[1;33m\u001b[0m\u001b[0m\n\u001b[1;32m--> 724\u001b[1;33m             retries = retries.increment(\n\u001b[0m\u001b[0;32m    725\u001b[0m                 \u001b[0mmethod\u001b[0m\u001b[1;33m,\u001b[0m \u001b[0murl\u001b[0m\u001b[1;33m,\u001b[0m \u001b[0merror\u001b[0m\u001b[1;33m=\u001b[0m\u001b[0me\u001b[0m\u001b[1;33m,\u001b[0m \u001b[0m_pool\u001b[0m\u001b[1;33m=\u001b[0m\u001b[0mself\u001b[0m\u001b[1;33m,\u001b[0m \u001b[0m_stacktrace\u001b[0m\u001b[1;33m=\u001b[0m\u001b[0msys\u001b[0m\u001b[1;33m.\u001b[0m\u001b[0mexc_info\u001b[0m\u001b[1;33m(\u001b[0m\u001b[1;33m)\u001b[0m\u001b[1;33m[\u001b[0m\u001b[1;36m2\u001b[0m\u001b[1;33m]\u001b[0m\u001b[1;33m\u001b[0m\u001b[1;33m\u001b[0m\u001b[0m\n",
      "\u001b[1;32m~\\anaconda3\\lib\\site-packages\\urllib3\\util\\retry.py\u001b[0m in \u001b[0;36mincrement\u001b[1;34m(self, method, url, response, error, _pool, _stacktrace)\u001b[0m\n\u001b[0;32m    438\u001b[0m         \u001b[1;32mif\u001b[0m \u001b[0mnew_retry\u001b[0m\u001b[1;33m.\u001b[0m\u001b[0mis_exhausted\u001b[0m\u001b[1;33m(\u001b[0m\u001b[1;33m)\u001b[0m\u001b[1;33m:\u001b[0m\u001b[1;33m\u001b[0m\u001b[1;33m\u001b[0m\u001b[0m\n\u001b[1;32m--> 439\u001b[1;33m             \u001b[1;32mraise\u001b[0m \u001b[0mMaxRetryError\u001b[0m\u001b[1;33m(\u001b[0m\u001b[0m_pool\u001b[0m\u001b[1;33m,\u001b[0m \u001b[0murl\u001b[0m\u001b[1;33m,\u001b[0m \u001b[0merror\u001b[0m \u001b[1;32mor\u001b[0m \u001b[0mResponseError\u001b[0m\u001b[1;33m(\u001b[0m\u001b[0mcause\u001b[0m\u001b[1;33m)\u001b[0m\u001b[1;33m)\u001b[0m\u001b[1;33m\u001b[0m\u001b[1;33m\u001b[0m\u001b[0m\n\u001b[0m\u001b[0;32m    440\u001b[0m \u001b[1;33m\u001b[0m\u001b[0m\n",
      "\u001b[1;31mMaxRetryError\u001b[0m: HTTPConnectionPool(host='127.0.0.1', port=8000): Max retries exceeded with url: /ride/ride-get/15692/ (Caused by NewConnectionError('<urllib3.connection.HTTPConnection object at 0x000001D18784D700>: Failed to establish a new connection: [WinError 10061] No connection could be made because the target machine actively refused it'))",
      "\nDuring handling of the above exception, another exception occurred:\n",
      "\u001b[1;31mConnectionError\u001b[0m                           Traceback (most recent call last)",
      "\u001b[1;32m<ipython-input-117-4c6e7259e3bb>\u001b[0m in \u001b[0;36m<module>\u001b[1;34m\u001b[0m\n\u001b[1;32m----> 1\u001b[1;33m \u001b[0mresponse\u001b[0m \u001b[1;33m=\u001b[0m \u001b[0mrequests\u001b[0m\u001b[1;33m.\u001b[0m\u001b[0mget\u001b[0m\u001b[1;33m(\u001b[0m\u001b[0mrideGetSingle\u001b[0m\u001b[1;33m)\u001b[0m\u001b[1;33m.\u001b[0m\u001b[0mjson\u001b[0m\u001b[1;33m(\u001b[0m\u001b[1;33m)\u001b[0m\u001b[1;33m\u001b[0m\u001b[1;33m\u001b[0m\u001b[0m\n\u001b[0m\u001b[0;32m      2\u001b[0m \u001b[0mresponse\u001b[0m\u001b[1;33m\u001b[0m\u001b[1;33m\u001b[0m\u001b[0m\n",
      "\u001b[1;32m~\\anaconda3\\lib\\site-packages\\requests\\api.py\u001b[0m in \u001b[0;36mget\u001b[1;34m(url, params, **kwargs)\u001b[0m\n\u001b[0;32m     74\u001b[0m \u001b[1;33m\u001b[0m\u001b[0m\n\u001b[0;32m     75\u001b[0m     \u001b[0mkwargs\u001b[0m\u001b[1;33m.\u001b[0m\u001b[0msetdefault\u001b[0m\u001b[1;33m(\u001b[0m\u001b[1;34m'allow_redirects'\u001b[0m\u001b[1;33m,\u001b[0m \u001b[1;32mTrue\u001b[0m\u001b[1;33m)\u001b[0m\u001b[1;33m\u001b[0m\u001b[1;33m\u001b[0m\u001b[0m\n\u001b[1;32m---> 76\u001b[1;33m     \u001b[1;32mreturn\u001b[0m \u001b[0mrequest\u001b[0m\u001b[1;33m(\u001b[0m\u001b[1;34m'get'\u001b[0m\u001b[1;33m,\u001b[0m \u001b[0murl\u001b[0m\u001b[1;33m,\u001b[0m \u001b[0mparams\u001b[0m\u001b[1;33m=\u001b[0m\u001b[0mparams\u001b[0m\u001b[1;33m,\u001b[0m \u001b[1;33m**\u001b[0m\u001b[0mkwargs\u001b[0m\u001b[1;33m)\u001b[0m\u001b[1;33m\u001b[0m\u001b[1;33m\u001b[0m\u001b[0m\n\u001b[0m\u001b[0;32m     77\u001b[0m \u001b[1;33m\u001b[0m\u001b[0m\n\u001b[0;32m     78\u001b[0m \u001b[1;33m\u001b[0m\u001b[0m\n",
      "\u001b[1;32m~\\anaconda3\\lib\\site-packages\\requests\\api.py\u001b[0m in \u001b[0;36mrequest\u001b[1;34m(method, url, **kwargs)\u001b[0m\n\u001b[0;32m     59\u001b[0m     \u001b[1;31m# cases, and look like a memory leak in others.\u001b[0m\u001b[1;33m\u001b[0m\u001b[1;33m\u001b[0m\u001b[1;33m\u001b[0m\u001b[0m\n\u001b[0;32m     60\u001b[0m     \u001b[1;32mwith\u001b[0m \u001b[0msessions\u001b[0m\u001b[1;33m.\u001b[0m\u001b[0mSession\u001b[0m\u001b[1;33m(\u001b[0m\u001b[1;33m)\u001b[0m \u001b[1;32mas\u001b[0m \u001b[0msession\u001b[0m\u001b[1;33m:\u001b[0m\u001b[1;33m\u001b[0m\u001b[1;33m\u001b[0m\u001b[0m\n\u001b[1;32m---> 61\u001b[1;33m         \u001b[1;32mreturn\u001b[0m \u001b[0msession\u001b[0m\u001b[1;33m.\u001b[0m\u001b[0mrequest\u001b[0m\u001b[1;33m(\u001b[0m\u001b[0mmethod\u001b[0m\u001b[1;33m=\u001b[0m\u001b[0mmethod\u001b[0m\u001b[1;33m,\u001b[0m \u001b[0murl\u001b[0m\u001b[1;33m=\u001b[0m\u001b[0murl\u001b[0m\u001b[1;33m,\u001b[0m \u001b[1;33m**\u001b[0m\u001b[0mkwargs\u001b[0m\u001b[1;33m)\u001b[0m\u001b[1;33m\u001b[0m\u001b[1;33m\u001b[0m\u001b[0m\n\u001b[0m\u001b[0;32m     62\u001b[0m \u001b[1;33m\u001b[0m\u001b[0m\n\u001b[0;32m     63\u001b[0m \u001b[1;33m\u001b[0m\u001b[0m\n",
      "\u001b[1;32m~\\anaconda3\\lib\\site-packages\\requests\\sessions.py\u001b[0m in \u001b[0;36mrequest\u001b[1;34m(self, method, url, params, data, headers, cookies, files, auth, timeout, allow_redirects, proxies, hooks, stream, verify, cert, json)\u001b[0m\n\u001b[0;32m    528\u001b[0m         }\n\u001b[0;32m    529\u001b[0m         \u001b[0msend_kwargs\u001b[0m\u001b[1;33m.\u001b[0m\u001b[0mupdate\u001b[0m\u001b[1;33m(\u001b[0m\u001b[0msettings\u001b[0m\u001b[1;33m)\u001b[0m\u001b[1;33m\u001b[0m\u001b[1;33m\u001b[0m\u001b[0m\n\u001b[1;32m--> 530\u001b[1;33m         \u001b[0mresp\u001b[0m \u001b[1;33m=\u001b[0m \u001b[0mself\u001b[0m\u001b[1;33m.\u001b[0m\u001b[0msend\u001b[0m\u001b[1;33m(\u001b[0m\u001b[0mprep\u001b[0m\u001b[1;33m,\u001b[0m \u001b[1;33m**\u001b[0m\u001b[0msend_kwargs\u001b[0m\u001b[1;33m)\u001b[0m\u001b[1;33m\u001b[0m\u001b[1;33m\u001b[0m\u001b[0m\n\u001b[0m\u001b[0;32m    531\u001b[0m \u001b[1;33m\u001b[0m\u001b[0m\n\u001b[0;32m    532\u001b[0m         \u001b[1;32mreturn\u001b[0m \u001b[0mresp\u001b[0m\u001b[1;33m\u001b[0m\u001b[1;33m\u001b[0m\u001b[0m\n",
      "\u001b[1;32m~\\anaconda3\\lib\\site-packages\\requests\\sessions.py\u001b[0m in \u001b[0;36msend\u001b[1;34m(self, request, **kwargs)\u001b[0m\n\u001b[0;32m    641\u001b[0m \u001b[1;33m\u001b[0m\u001b[0m\n\u001b[0;32m    642\u001b[0m         \u001b[1;31m# Send the request\u001b[0m\u001b[1;33m\u001b[0m\u001b[1;33m\u001b[0m\u001b[1;33m\u001b[0m\u001b[0m\n\u001b[1;32m--> 643\u001b[1;33m         \u001b[0mr\u001b[0m \u001b[1;33m=\u001b[0m \u001b[0madapter\u001b[0m\u001b[1;33m.\u001b[0m\u001b[0msend\u001b[0m\u001b[1;33m(\u001b[0m\u001b[0mrequest\u001b[0m\u001b[1;33m,\u001b[0m \u001b[1;33m**\u001b[0m\u001b[0mkwargs\u001b[0m\u001b[1;33m)\u001b[0m\u001b[1;33m\u001b[0m\u001b[1;33m\u001b[0m\u001b[0m\n\u001b[0m\u001b[0;32m    644\u001b[0m \u001b[1;33m\u001b[0m\u001b[0m\n\u001b[0;32m    645\u001b[0m         \u001b[1;31m# Total elapsed time of the request (approximately)\u001b[0m\u001b[1;33m\u001b[0m\u001b[1;33m\u001b[0m\u001b[1;33m\u001b[0m\u001b[0m\n",
      "\u001b[1;32m~\\anaconda3\\lib\\site-packages\\requests\\adapters.py\u001b[0m in \u001b[0;36msend\u001b[1;34m(self, request, stream, timeout, verify, cert, proxies)\u001b[0m\n\u001b[0;32m    514\u001b[0m                 \u001b[1;32mraise\u001b[0m \u001b[0mSSLError\u001b[0m\u001b[1;33m(\u001b[0m\u001b[0me\u001b[0m\u001b[1;33m,\u001b[0m \u001b[0mrequest\u001b[0m\u001b[1;33m=\u001b[0m\u001b[0mrequest\u001b[0m\u001b[1;33m)\u001b[0m\u001b[1;33m\u001b[0m\u001b[1;33m\u001b[0m\u001b[0m\n\u001b[0;32m    515\u001b[0m \u001b[1;33m\u001b[0m\u001b[0m\n\u001b[1;32m--> 516\u001b[1;33m             \u001b[1;32mraise\u001b[0m \u001b[0mConnectionError\u001b[0m\u001b[1;33m(\u001b[0m\u001b[0me\u001b[0m\u001b[1;33m,\u001b[0m \u001b[0mrequest\u001b[0m\u001b[1;33m=\u001b[0m\u001b[0mrequest\u001b[0m\u001b[1;33m)\u001b[0m\u001b[1;33m\u001b[0m\u001b[1;33m\u001b[0m\u001b[0m\n\u001b[0m\u001b[0;32m    517\u001b[0m \u001b[1;33m\u001b[0m\u001b[0m\n\u001b[0;32m    518\u001b[0m         \u001b[1;32mexcept\u001b[0m \u001b[0mClosedPoolError\u001b[0m \u001b[1;32mas\u001b[0m \u001b[0me\u001b[0m\u001b[1;33m:\u001b[0m\u001b[1;33m\u001b[0m\u001b[1;33m\u001b[0m\u001b[0m\n",
      "\u001b[1;31mConnectionError\u001b[0m: HTTPConnectionPool(host='127.0.0.1', port=8000): Max retries exceeded with url: /ride/ride-get/15692/ (Caused by NewConnectionError('<urllib3.connection.HTTPConnection object at 0x000001D18784D700>: Failed to establish a new connection: [WinError 10061] No connection could be made because the target machine actively refused it'))"
     ]
    }
   ],
   "source": [
    "response = requests.get(rideGetSingle).json()\n",
    "response"
   ]
  },
  {
   "cell_type": "markdown",
   "metadata": {},
   "source": [
    "### get multiple random rides"
   ]
  },
  {
   "cell_type": "code",
   "execution_count": 102,
   "metadata": {
    "scrolled": true
   },
   "outputs": [
    {
     "data": {
      "text/plain": [
       "['15692',\n",
       " '16380',\n",
       " '16376',\n",
       " '16345',\n",
       " '16318',\n",
       " '16302',\n",
       " '16301',\n",
       " '16300',\n",
       " '16299',\n",
       " '16298',\n",
       " '16297',\n",
       " '16290',\n",
       " '16289',\n",
       " '16278',\n",
       " '16262',\n",
       " '16253',\n",
       " '16252',\n",
       " '16250',\n",
       " '16249',\n",
       " '16243',\n",
       " '16239',\n",
       " '16238',\n",
       " '16237',\n",
       " '16225',\n",
       " '16222',\n",
       " '16221',\n",
       " '16212',\n",
       " '16211',\n",
       " '16197',\n",
       " '16196',\n",
       " '16195',\n",
       " '16192',\n",
       " '16191',\n",
       " '16189',\n",
       " '16178',\n",
       " '16177',\n",
       " '16175',\n",
       " '16173',\n",
       " '16171',\n",
       " '16169',\n",
       " '16168',\n",
       " '16167',\n",
       " '16161',\n",
       " '16160',\n",
       " '16158',\n",
       " '16152',\n",
       " '16148',\n",
       " '16140',\n",
       " '16137',\n",
       " '16135',\n",
       " '16134',\n",
       " '16128',\n",
       " '16126',\n",
       " '16115',\n",
       " '16106',\n",
       " '16103',\n",
       " '16101',\n",
       " '16100',\n",
       " '16099',\n",
       " '16098',\n",
       " '16088',\n",
       " '16081',\n",
       " '16079',\n",
       " '16076',\n",
       " '16075',\n",
       " '16073',\n",
       " '16072',\n",
       " '16000',\n",
       " '15996',\n",
       " '15983',\n",
       " '15980',\n",
       " '15978',\n",
       " '15972',\n",
       " '15963',\n",
       " '15962',\n",
       " '15953',\n",
       " '15945',\n",
       " '15859',\n",
       " '15858',\n",
       " '15857',\n",
       " '15856',\n",
       " '15854',\n",
       " '15848']"
      ]
     },
     "execution_count": 102,
     "metadata": {},
     "output_type": "execute_result"
    }
   ],
   "source": [
    "response = requests.get(rideGetRandom)\n",
    "data = response.json()\n",
    "[ride['rideId'] for ride in data]"
   ]
  },
  {
   "cell_type": "markdown",
   "metadata": {},
   "source": [
    "### get multiple rides by location"
   ]
  },
  {
   "cell_type": "code",
   "execution_count": 103,
   "metadata": {
    "scrolled": true
   },
   "outputs": [
    {
     "data": {
      "text/plain": [
       "['15692',\n",
       " '16380',\n",
       " '16345',\n",
       " '16318',\n",
       " '16302',\n",
       " '16301',\n",
       " '16298',\n",
       " '16290',\n",
       " '16289',\n",
       " '16250',\n",
       " '16249',\n",
       " '16239',\n",
       " '16238',\n",
       " '16237',\n",
       " '16225',\n",
       " '16222',\n",
       " '16221',\n",
       " '16212',\n",
       " '16211',\n",
       " '16197',\n",
       " '16195',\n",
       " '16192',\n",
       " '16191',\n",
       " '16178',\n",
       " '16177',\n",
       " '16173',\n",
       " '16171',\n",
       " '16169',\n",
       " '16168',\n",
       " '16167',\n",
       " '16161',\n",
       " '16158',\n",
       " '16148',\n",
       " '16137',\n",
       " '16135',\n",
       " '16134',\n",
       " '16128',\n",
       " '16126',\n",
       " '16115',\n",
       " '16106',\n",
       " '16103',\n",
       " '16101',\n",
       " '16100',\n",
       " '16099',\n",
       " '16081',\n",
       " '16079',\n",
       " '16076',\n",
       " '16000',\n",
       " '15996',\n",
       " '15980',\n",
       " '15972',\n",
       " '15963',\n",
       " '15962',\n",
       " '15945',\n",
       " '15859',\n",
       " '15857',\n",
       " '15856',\n",
       " '15854',\n",
       " '15848']"
      ]
     },
     "execution_count": 103,
     "metadata": {},
     "output_type": "execute_result"
    }
   ],
   "source": [
    "response = requests.get(rideGetLocation)\n",
    "data = response.json()\n",
    "[ride['rideId'] for ride in data]\n",
    "# for ride in data:\n",
    "#     print(ride['rideId'])"
   ]
  },
  {
   "cell_type": "markdown",
   "metadata": {},
   "source": [
    "### get multiple rides between start and end date"
   ]
  },
  {
   "cell_type": "code",
   "execution_count": 104,
   "metadata": {
    "scrolled": true
   },
   "outputs": [
    {
     "data": {
      "text/plain": [
       "['15692',\n",
       " '15983',\n",
       " '15980',\n",
       " '15978',\n",
       " '15972',\n",
       " '15963',\n",
       " '15962',\n",
       " '15953',\n",
       " '15945',\n",
       " '15859',\n",
       " '15858',\n",
       " '15857',\n",
       " '15856',\n",
       " '15854',\n",
       " '15848']"
      ]
     },
     "execution_count": 104,
     "metadata": {},
     "output_type": "execute_result"
    }
   ],
   "source": [
    "response = requests.get(rideGetDate)\n",
    "data = response.json()\n",
    "[ride['rideId'] for ride in data]"
   ]
  },
  {
   "cell_type": "markdown",
   "metadata": {},
   "source": [
    "## Get field(s) of ride(s)\n",
    "gets a single attribute of a ride in the database. If count = 1, then we only retrieve the specified ride id, if count > 1, retrieve that amount of rides randomly"
   ]
  },
  {
   "cell_type": "code",
   "execution_count": 114,
   "metadata": {},
   "outputs": [],
   "source": [
    "fields = 'heightSmartfin'\n",
    "\n",
    "if testing:\n",
    "    fieldGetSingle = f'http://127.0.0.1:8000/ride/field-get/{rideId}/{fields}/' # creates new ride and upload all ride data to db\n",
    "    fieldGetRandom = f'http://127.0.0.1:8000/ride/random/field-get/{count}/{fields}/' # creates new ride and upload all ride data to db\n",
    "    fieldGetLocation = f'http://127.0.0.1:8000/ride/location/field-get/{location}/{fields}/' # creates new ride and upload all ride data to db\n",
    "    fieldGetDate = f'http://127.0.0.1:8000/ride/date/field-get/{startDate}/{endDate}/{fields}/' # creates new ride and upload all ride data to db\n",
    "else:\n",
    "    fieldGetSingle = 'https://lit-sands-95859.herokuapp.com/ride/field-get/15692/heightSmartfin/'\n",
    "    fieldGetMany =  f'https://lit-sands-95859.herokuapp.com/ride/many/field-get/{field}/{count}'\n",
    "    fieldGetLocation = f'https://lit-sands-95859.herokuapp.com/ride/location/field-get/{location}/{fields}/' # creates new ride and upload all ride data to db\n",
    "    fieldGetDate = f'https://lit-sands-95859.herokuapp.com/ride/date/field-get/{startDate}/{endDate}/{fields}/' # creates new ride and upload all ride data to db "
   ]
  },
  {
   "cell_type": "code",
   "execution_count": 106,
   "metadata": {
    "scrolled": true
   },
   "outputs": [
    {
     "data": {
      "text/plain": [
       "{'heightSmartfin': 0.4627763961677482}"
      ]
     },
     "execution_count": 106,
     "metadata": {},
     "output_type": "execute_result"
    }
   ],
   "source": [
    "response = requests.get(fieldGetSingle)\n",
    "response.json()"
   ]
  },
  {
   "cell_type": "markdown",
   "metadata": {},
   "source": [
    "### get fields of random rides"
   ]
  },
  {
   "cell_type": "code",
   "execution_count": 107,
   "metadata": {
    "scrolled": true
   },
   "outputs": [
    {
     "data": {
      "text/plain": [
       "[{'rideId': '15692', 'heightSmartfin': 0.4627763961677482},\n",
       " {'rideId': '16380', 'heightSmartfin': 0.5590487240759578},\n",
       " {'rideId': '16376', 'heightSmartfin': 0.9452605601171257},\n",
       " {'rideId': '16345', 'heightSmartfin': 0.4584316394793693},\n",
       " {'rideId': '16318', 'heightSmartfin': 0.5046445915309702},\n",
       " {'rideId': '16302', 'heightSmartfin': 0.6496881974640748},\n",
       " {'rideId': '16301', 'heightSmartfin': 0.3980063825082968},\n",
       " {'rideId': '16300', 'heightSmartfin': 0.5119586229454351},\n",
       " {'rideId': '16299', 'heightSmartfin': 0.42575072751492293},\n",
       " {'rideId': '16298', 'heightSmartfin': 0.6827793676797396},\n",
       " {'rideId': '16297', 'heightSmartfin': 0.4277936109265481},\n",
       " {'rideId': '16290', 'heightSmartfin': 1.3478621251970722},\n",
       " {'rideId': '16289', 'heightSmartfin': 0.6106659239662217},\n",
       " {'rideId': '16278', 'heightSmartfin': 13.408752684422717},\n",
       " {'rideId': '16262', 'heightSmartfin': 0.4966136986782835},\n",
       " {'rideId': '16253', 'heightSmartfin': 0.7600966185439203},\n",
       " {'rideId': '16252', 'heightSmartfin': 0.5349635351126728},\n",
       " {'rideId': '16250', 'heightSmartfin': 0.5267541266279585},\n",
       " {'rideId': '16249', 'heightSmartfin': 0.320888589939161},\n",
       " {'rideId': '16243', 'heightSmartfin': 0.6206356862244736},\n",
       " {'rideId': '16239', 'heightSmartfin': 0.6741870881720926},\n",
       " {'rideId': '16238', 'heightSmartfin': 0.31457115052745704},\n",
       " {'rideId': '16237', 'heightSmartfin': 0.32335430876906257},\n",
       " {'rideId': '16225', 'heightSmartfin': 0.54981810136727},\n",
       " {'rideId': '16222', 'heightSmartfin': 0.47084205191039},\n",
       " {'rideId': '16221', 'heightSmartfin': 0.4319540899458727},\n",
       " {'rideId': '16212', 'heightSmartfin': 0.4103879821867719},\n",
       " {'rideId': '16211', 'heightSmartfin': 0.5029026028915657},\n",
       " {'rideId': '16197', 'heightSmartfin': 0.8295003310935322},\n",
       " {'rideId': '16196', 'heightSmartfin': 5.458667578375172},\n",
       " {'rideId': '16195', 'heightSmartfin': 0.44575377137086303},\n",
       " {'rideId': '16192', 'heightSmartfin': 0.49044612903692486},\n",
       " {'rideId': '16191', 'heightSmartfin': 0.5991598279960914},\n",
       " {'rideId': '16189', 'heightSmartfin': 0.3239138692256915},\n",
       " {'rideId': '16178', 'heightSmartfin': 0.4679436020698194},\n",
       " {'rideId': '16177', 'heightSmartfin': 0.6216348169477769},\n",
       " {'rideId': '16175', 'heightSmartfin': 0.5762497547269518},\n",
       " {'rideId': '16173', 'heightSmartfin': 0.49591636864541633},\n",
       " {'rideId': '16171', 'heightSmartfin': 0.5500457606026834},\n",
       " {'rideId': '16169', 'heightSmartfin': 0.422189613665582},\n",
       " {'rideId': '16168', 'heightSmartfin': 0.5290967091550641},\n",
       " {'rideId': '16167', 'heightSmartfin': 0.5303050483699155},\n",
       " {'rideId': '16161', 'heightSmartfin': 0.5393537657170508},\n",
       " {'rideId': '16160', 'heightSmartfin': 0.9571022901502121},\n",
       " {'rideId': '16158', 'heightSmartfin': 0.6267886754580873},\n",
       " {'rideId': '16152', 'heightSmartfin': 0.6273824630263807},\n",
       " {'rideId': '16148', 'heightSmartfin': 0.7424905027257902},\n",
       " {'rideId': '16140', 'heightSmartfin': 0.37670778361373486},\n",
       " {'rideId': '16137', 'heightSmartfin': 0.292369410048274},\n",
       " {'rideId': '16135', 'heightSmartfin': 0.39656736009880406},\n",
       " {'rideId': '16134', 'heightSmartfin': 0.36117532006700653},\n",
       " {'rideId': '16128', 'heightSmartfin': 0.6370554722934997},\n",
       " {'rideId': '16126', 'heightSmartfin': 0.5590969240352415},\n",
       " {'rideId': '16115', 'heightSmartfin': 0.780947768660232},\n",
       " {'rideId': '16106', 'heightSmartfin': 0.8697398594896543},\n",
       " {'rideId': '16103', 'heightSmartfin': 0.9494276331676084},\n",
       " {'rideId': '16101', 'heightSmartfin': 0.42186578505971706},\n",
       " {'rideId': '16100', 'heightSmartfin': 0.6082320081965215},\n",
       " {'rideId': '16099', 'heightSmartfin': 5.8803668666855895},\n",
       " {'rideId': '16098', 'heightSmartfin': 0.6379587389842524},\n",
       " {'rideId': '16088', 'heightSmartfin': 0.7172927274501932},\n",
       " {'rideId': '16081', 'heightSmartfin': 0.5719928009663098},\n",
       " {'rideId': '16079', 'heightSmartfin': 0.5412308009993136},\n",
       " {'rideId': '16076', 'heightSmartfin': 0.5709620498929476},\n",
       " {'rideId': '16075', 'heightSmartfin': 0.6175169676761413},\n",
       " {'rideId': '16073', 'heightSmartfin': 0.5076929158964522},\n",
       " {'rideId': '16072', 'heightSmartfin': 0.42220742976990366},\n",
       " {'rideId': '16000', 'heightSmartfin': 0.41188492125104315},\n",
       " {'rideId': '15996', 'heightSmartfin': 0.5408493348769459},\n",
       " {'rideId': '15983', 'heightSmartfin': 0.6304485142589018},\n",
       " {'rideId': '15980', 'heightSmartfin': 1.2310790203744395},\n",
       " {'rideId': '15978', 'heightSmartfin': 0.47447633441911763},\n",
       " {'rideId': '15972', 'heightSmartfin': 0.6435360852109306},\n",
       " {'rideId': '15963', 'heightSmartfin': 0.8760445295484257},\n",
       " {'rideId': '15962', 'heightSmartfin': 0.4584329574188188},\n",
       " {'rideId': '15953', 'heightSmartfin': 0.7418679161313633},\n",
       " {'rideId': '15945', 'heightSmartfin': 0.3981912713268298},\n",
       " {'rideId': '15859', 'heightSmartfin': 0.7226037488125758},\n",
       " {'rideId': '15858', 'heightSmartfin': 0.6433389939696775},\n",
       " {'rideId': '15857', 'heightSmartfin': 0.46273299498116394},\n",
       " {'rideId': '15856', 'heightSmartfin': 0.3239601440036302},\n",
       " {'rideId': '15854', 'heightSmartfin': 0.5801816260967135},\n",
       " {'rideId': '15848', 'heightSmartfin': 0.5300296239462102}]"
      ]
     },
     "execution_count": 107,
     "metadata": {},
     "output_type": "execute_result"
    }
   ],
   "source": [
    "response = requests.get(fieldGetRandom)\n",
    "response.json()['data']"
   ]
  },
  {
   "cell_type": "markdown",
   "metadata": {},
   "source": [
    "### get fields of rides by location"
   ]
  },
  {
   "cell_type": "code",
   "execution_count": 108,
   "metadata": {
    "scrolled": true
   },
   "outputs": [
    {
     "data": {
      "text/plain": [
       "[{'heightSmartfin': 0.4627763961677482},\n",
       " {'heightSmartfin': 0.5590487240759578},\n",
       " {'heightSmartfin': 0.9452605601171257},\n",
       " {'heightSmartfin': 0.4584316394793693},\n",
       " {'heightSmartfin': 0.5046445915309702},\n",
       " {'heightSmartfin': 0.6496881974640748},\n",
       " {'heightSmartfin': 0.3980063825082968},\n",
       " {'heightSmartfin': 0.5119586229454351},\n",
       " {'heightSmartfin': 0.42575072751492293},\n",
       " {'heightSmartfin': 0.6827793676797396},\n",
       " {'heightSmartfin': 0.4277936109265481},\n",
       " {'heightSmartfin': 1.3478621251970722},\n",
       " {'heightSmartfin': 0.6106659239662217},\n",
       " {'heightSmartfin': 13.408752684422717},\n",
       " {'heightSmartfin': 0.4966136986782835},\n",
       " {'heightSmartfin': 0.7600966185439203},\n",
       " {'heightSmartfin': 0.5349635351126728},\n",
       " {'heightSmartfin': 0.5267541266279585},\n",
       " {'heightSmartfin': 0.320888589939161},\n",
       " {'heightSmartfin': 0.6206356862244736},\n",
       " {'heightSmartfin': 0.6741870881720926},\n",
       " {'heightSmartfin': 0.31457115052745704},\n",
       " {'heightSmartfin': 0.32335430876906257},\n",
       " {'heightSmartfin': 0.54981810136727},\n",
       " {'heightSmartfin': 0.47084205191039},\n",
       " {'heightSmartfin': 0.4319540899458727},\n",
       " {'heightSmartfin': 0.4103879821867719},\n",
       " {'heightSmartfin': 0.5029026028915657},\n",
       " {'heightSmartfin': 0.8295003310935322},\n",
       " {'heightSmartfin': 5.458667578375172},\n",
       " {'heightSmartfin': 0.44575377137086303},\n",
       " {'heightSmartfin': 0.49044612903692486},\n",
       " {'heightSmartfin': 0.5991598279960914},\n",
       " {'heightSmartfin': 0.3239138692256915},\n",
       " {'heightSmartfin': 0.4679436020698194},\n",
       " {'heightSmartfin': 0.6216348169477769},\n",
       " {'heightSmartfin': 0.5762497547269518},\n",
       " {'heightSmartfin': 0.49591636864541633},\n",
       " {'heightSmartfin': 0.5500457606026834},\n",
       " {'heightSmartfin': 0.422189613665582},\n",
       " {'heightSmartfin': 0.5290967091550641},\n",
       " {'heightSmartfin': 0.5303050483699155},\n",
       " {'heightSmartfin': 0.5393537657170508},\n",
       " {'heightSmartfin': 0.9571022901502121},\n",
       " {'heightSmartfin': 0.6267886754580873},\n",
       " {'heightSmartfin': 0.6273824630263807},\n",
       " {'heightSmartfin': 0.7424905027257902},\n",
       " {'heightSmartfin': 0.37670778361373486},\n",
       " {'heightSmartfin': 0.292369410048274},\n",
       " {'heightSmartfin': 0.39656736009880406},\n",
       " {'heightSmartfin': 0.36117532006700653},\n",
       " {'heightSmartfin': 0.6370554722934997},\n",
       " {'heightSmartfin': 0.5590969240352415},\n",
       " {'heightSmartfin': 0.780947768660232},\n",
       " {'heightSmartfin': 0.8697398594896543},\n",
       " {'heightSmartfin': 0.9494276331676084},\n",
       " {'heightSmartfin': 0.42186578505971706},\n",
       " {'heightSmartfin': 0.6082320081965215},\n",
       " {'heightSmartfin': 5.8803668666855895},\n",
       " {'heightSmartfin': 0.6379587389842524},\n",
       " {'heightSmartfin': 0.7172927274501932},\n",
       " {'heightSmartfin': 0.5719928009663098},\n",
       " {'heightSmartfin': 0.5412308009993136},\n",
       " {'heightSmartfin': 0.5709620498929476},\n",
       " {'heightSmartfin': 0.6175169676761413},\n",
       " {'heightSmartfin': 0.5076929158964522},\n",
       " {'heightSmartfin': 0.42220742976990366},\n",
       " {'heightSmartfin': 0.41188492125104315},\n",
       " {'heightSmartfin': 0.5408493348769459},\n",
       " {'heightSmartfin': 0.6304485142589018},\n",
       " {'heightSmartfin': 1.2310790203744395},\n",
       " {'heightSmartfin': 0.47447633441911763},\n",
       " {'heightSmartfin': 0.6435360852109306},\n",
       " {'heightSmartfin': 0.8760445295484257},\n",
       " {'heightSmartfin': 0.4584329574188188},\n",
       " {'heightSmartfin': 0.7418679161313633},\n",
       " {'heightSmartfin': 0.3981912713268298},\n",
       " {'heightSmartfin': 0.7226037488125758},\n",
       " {'heightSmartfin': 0.6433389939696775},\n",
       " {'heightSmartfin': 0.46273299498116394},\n",
       " {'heightSmartfin': 0.3239601440036302},\n",
       " {'heightSmartfin': 0.5801816260967135},\n",
       " {'heightSmartfin': 0.5300296239462102}]"
      ]
     },
     "execution_count": 108,
     "metadata": {},
     "output_type": "execute_result"
    }
   ],
   "source": [
    "response = requests.get(fieldGetLocation)\n",
    "response.json()['data']"
   ]
  },
  {
   "cell_type": "markdown",
   "metadata": {},
   "source": [
    "### get fields of rides by date"
   ]
  },
  {
   "cell_type": "code",
   "execution_count": 109,
   "metadata": {},
   "outputs": [
    {
     "data": {
      "text/plain": [
       "[{'heightSmartfin': 0.4627763961677482},\n",
       " {'heightSmartfin': 0.6304485142589018},\n",
       " {'heightSmartfin': 1.2310790203744395},\n",
       " {'heightSmartfin': 0.47447633441911763},\n",
       " {'heightSmartfin': 0.6435360852109306},\n",
       " {'heightSmartfin': 0.8760445295484257},\n",
       " {'heightSmartfin': 0.4584329574188188},\n",
       " {'heightSmartfin': 0.7418679161313633},\n",
       " {'heightSmartfin': 0.3981912713268298},\n",
       " {'heightSmartfin': 0.7226037488125758},\n",
       " {'heightSmartfin': 0.6433389939696775},\n",
       " {'heightSmartfin': 0.46273299498116394},\n",
       " {'heightSmartfin': 0.3239601440036302},\n",
       " {'heightSmartfin': 0.5801816260967135},\n",
       " {'heightSmartfin': 0.5300296239462102}]"
      ]
     },
     "execution_count": 109,
     "metadata": {},
     "output_type": "execute_result"
    }
   ],
   "source": [
    "response = requests.get(fieldGetDate)\n",
    "response.json()['data']"
   ]
  },
  {
   "cell_type": "markdown",
   "metadata": {},
   "source": [
    "### update heights of rides in db"
   ]
  },
  {
   "cell_type": "code",
   "execution_count": null,
   "metadata": {},
   "outputs": [],
   "source": []
  },
  {
   "cell_type": "markdown",
   "metadata": {},
   "source": [
    "### list all active CDIP buoys"
   ]
  },
  {
   "cell_type": "code",
   "execution_count": 111,
   "metadata": {},
   "outputs": [],
   "source": [
    "if testing:\n",
    "    buoyList = 'http://127.0.0.1:8000/ride/buoy-list'\n",
    "else:\n",
    "    buoyList = 'https://lit-sands-95859.herokuapp.com/ride/buoyList/'"
   ]
  },
  {
   "cell_type": "code",
   "execution_count": 112,
   "metadata": {
    "scrolled": true
   },
   "outputs": [
    {
     "data": {
      "text/plain": [
       "['028',\n",
       " '029',\n",
       " '036',\n",
       " '045',\n",
       " '067',\n",
       " '071',\n",
       " '076',\n",
       " '092',\n",
       " '094',\n",
       " '098',\n",
       " '100',\n",
       " '103',\n",
       " '106',\n",
       " '121',\n",
       " '132',\n",
       " '134',\n",
       " '139',\n",
       " '142',\n",
       " '143',\n",
       " '147',\n",
       " '150',\n",
       " '154',\n",
       " '155',\n",
       " '157',\n",
       " '158',\n",
       " '160',\n",
       " '162',\n",
       " '163',\n",
       " '166',\n",
       " '168',\n",
       " '171',\n",
       " '179',\n",
       " '181',\n",
       " '185',\n",
       " '187',\n",
       " '188',\n",
       " '189',\n",
       " '191',\n",
       " '192',\n",
       " '194',\n",
       " '196',\n",
       " '197',\n",
       " '198',\n",
       " '200',\n",
       " '201',\n",
       " '203',\n",
       " '209',\n",
       " '213',\n",
       " '214',\n",
       " '215',\n",
       " '217',\n",
       " '220',\n",
       " '221',\n",
       " '222',\n",
       " '224',\n",
       " '225',\n",
       " '226',\n",
       " '230',\n",
       " '233',\n",
       " '236',\n",
       " '238',\n",
       " '239',\n",
       " '240',\n",
       " '243',\n",
       " '244',\n",
       " '247',\n",
       " '430',\n",
       " '433']"
      ]
     },
     "execution_count": 112,
     "metadata": {},
     "output_type": "execute_result"
    }
   ],
   "source": [
    "response = requests.get(buoyList)\n",
    "data = response.json()\n",
    "data"
   ]
  },
  {
   "cell_type": "code",
   "execution_count": null,
   "metadata": {},
   "outputs": [],
   "source": []
  }
 ],
 "metadata": {
  "kernelspec": {
   "display_name": "Python 3",
   "language": "python",
   "name": "python3"
  },
  "language_info": {
   "codemirror_mode": {
    "name": "ipython",
    "version": 3
   },
   "file_extension": ".py",
   "mimetype": "text/x-python",
   "name": "python",
   "nbconvert_exporter": "python",
   "pygments_lexer": "ipython3",
   "version": "3.8.3"
  }
 },
 "nbformat": 4,
 "nbformat_minor": 4
}
