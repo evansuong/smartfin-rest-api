{
 "cells": [
  {
   "cell_type": "markdown",
   "metadata": {},
   "source": [
    "# Smartfin Ride API\n",
    "The Smartfin Ride API makes it quick and easy to obtain smartfin ride data using a Django REST API. \n",
    "\n",
    "All ride queries go through the ride endpoint, so all urls should be in the format:\n",
    "\"[domain name]/ride/\""
   ]
  },
  {
   "cell_type": "code",
   "execution_count": 1,
   "metadata": {},
   "outputs": [],
   "source": [
    "# jasmines ride ids\n",
    "# 14743 - Motion Control July 10th\n",
    "# 14750 - Magnetometer Control July 11th\n",
    "# 14814 - Pool Displacement Control July 17th\n",
    "# 14815 - Compass Orientation (Lying on Charger Side) July 19th\n",
    "# 14816 - Orientation w Higher Sampling (Lying on Charger Side) July 20th\n",
    "# 14827 - Pool Displacement Control w Higher Sampling (Jul 23)\n",
    "# 14888 - First Buoy Calibration Experiment (July 30)\n",
    "# 15218 - Jasmine's Second Ride Sesh filmed with GoPro (Aug 29) //no footage\n",
    "# 15629 - Jasmine's First Ride Sesh filmed with VIRB (Oct. 24) //first labelled footage!\n",
    "# 15669 - Jasmine's Second Ride Sesh filmed with VIRB (Nov. 7) //second labelled footage!\n",
    "# 15692 - Jasmine's 3rd Ride Sesh filmed with VIRB (Nov. 9) //third labelled footage!\n",
    "# 15686 - Jasmine's 4th Ride Sesh filmed with VIRB (Nov. 11) //fourth labelled footage!"
   ]
  },
  {
   "cell_type": "code",
   "execution_count": 2,
   "metadata": {},
   "outputs": [],
   "source": [
    "base_url_example = f'http://127.0.0.1:8000/ride/'"
   ]
  },
  {
   "cell_type": "code",
   "execution_count": 3,
   "metadata": {},
   "outputs": [],
   "source": [
    "rideId = '30000'\n",
    "field = 'heightSmartfin'\n",
    "fieldGetSingleExample = f'http://127.0.0.1:8000/ride/field-get/{rideId}/{field}/'"
   ]
  },
  {
   "cell_type": "markdown",
   "metadata": {},
   "source": [
    "## EXAMPLES OF EACH FUNCTION"
   ]
  },
  {
   "cell_type": "code",
   "execution_count": 4,
   "metadata": {},
   "outputs": [],
   "source": [
    "# imports\n",
    "import requests\n",
    "import pandas as pd\n",
    "from io import BytesIO"
   ]
  },
  {
   "cell_type": "markdown",
   "metadata": {},
   "source": [
    "## URLs"
   ]
  },
  {
   "cell_type": "markdown",
   "metadata": {},
   "source": [
    "'List all ride ids': '/ride-list/',\n",
    "\n",
    "'List all the ride fields': '/ride-fields/'\n",
    "\n",
    "'Get single ride': '/ride-get/<str:rideId>/',\n",
    "\n",
    "'Get random set of rides': '/many/ride-get/<int:count>/',\n",
    "\n",
    "'Filter rides by location': '/location/ride-get/<str:location>/',\n",
    "\n",
    "'Filter rides by date': '/date/ride-get/<str:startDate>/<str:endDate>/',\n",
    "\n",
    "'Get single ride attribute': 'field-get/<str:rideId>/<str:fields>/',\n",
    "\n",
    "'Get attributes of random set of rides': 'random/field-get/<int:count>/<str:fields>/',\n",
    "\n",
    "'Get attributes of rides filtered by location': 'location/field-get/<str:location>/<str:fields>/', \n",
    "\n",
    "'Get attributes of rides filtered by date': 'date/field-get/<str:startDate>/<str:endDate>/<str:fields>/',\n",
    "\n",
    "'Update heights of all rides in database': 'update-heights/',\n",
    "'Get list of active CDIP buoys': 'buoy-list/'"
   ]
  },
  {
   "cell_type": "code",
   "execution_count": 8,
   "metadata": {},
   "outputs": [],
   "source": [
    "testing = True # determines what url we are requesting from"
   ]
  },
  {
   "cell_type": "markdown",
   "metadata": {},
   "source": [
    "## Create / Get New Ride(s)\n",
    "This query takes a rideId parameter and searches the database for that ride. If it doesn't exist then a new ride is created and all the data is uploaded and returned as a response. If the ride exists, then it just gets returned as a response. The actual data can be extracted from the response object using response.json() which formats the data as a python dictionary"
   ]
  },
  {
   "cell_type": "code",
   "execution_count": 23,
   "metadata": {},
   "outputs": [],
   "source": [
    "rideId = '15692'\n",
    "count = '20'\n",
    "location = 'San Diego'\n",
    "# location = 'San Diego:Orange County'\n",
    "startDate = '1541030400'\n",
    "endDate = '1552566400'\n",
    "\n",
    "\n",
    "if testing:\n",
    "    apiOverview = f'http://127.0.0.1:8000/ride/'\n",
    "    rideList = f'http://127.0.0.1:8000/ride/ride-list/'\n",
    "    rideFields = f'http://127.0.0.1:8000/ride/ride-fields/'\n",
    "    rideGetSingle = f'http://127.0.0.1:8000/ride/ride-get/{rideId}/' # creates new ride and upload all ride data to db\n",
    "    rideDelete = f'http://127.0.0.1:8000/ride/ride-delete/{rideId}/'\n",
    "    rideGetRandom = f'http://127.0.0.1:8000/ride/random/ride-get/{count}/' # creates new ride and upload all ride data to db\n",
    "    rideGetLocation = f'http://127.0.0.1:8000/ride/location/ride-get/{location}/' # creates new ride and upload all ride data to db\n",
    "    rideGetDate = f'http://127.0.0.1:8000/ride/date/ride-get/{startDate}/{endDate}/' # creates new ride and upload all ride data to db\n",
    "else:\n",
    "    apiOverview = f'https://lit-sands-95859.herokuapp.com/ride/'\n",
    "    rideList = f'https://lit-sands-95859.herokuapp.com/ride/ride-list/'\n",
    "    rideFields = f'https://lit-sands-95859.herokuapp.com/ride/ride-fields/'\n",
    "    rideGetSingle = f'https://lit-sands-95859.herokuapp.com/ride/ride-get/{rideId}/' # creates new ride and upload all ride data to db\n",
    "    rideGetRandom = f'https://lit-sands-95859.herokuapp.com/ride/random/ride-get/{count}/' # creates new ride and upload all ride data to db\n",
    "    rideGetLocation = f'https://lit-sands-95859.herokuapp.com/ride/location/ride-get/{location}/' # creates new ride and upload all ride data to db\n",
    "    rideGetDate = f'https://lit-sands-95859.herokuapp.com/ride/date/ride-get/{startDate}/{endDate}/' # creates new ride and upload all r"
   ]
  },
  {
   "cell_type": "markdown",
   "metadata": {},
   "source": [
    "### get api info"
   ]
  },
  {
   "cell_type": "markdown",
   "metadata": {},
   "source": [
    "get all the ride ids in the database"
   ]
  },
  {
   "cell_type": "code",
   "execution_count": 24,
   "metadata": {
    "scrolled": false
   },
   "outputs": [
    {
     "data": {
      "text/plain": [
       "{'Get overview of api endpoints': 'ride',\n",
       " 'List all ride ids': 'ride-list/',\n",
       " 'List ride fields': 'ride-fields/',\n",
       " 'Get single ride': 'ride-get/<str:rideId>/',\n",
       " 'Get random set of rides': 'random/ride-get/<int:count>/',\n",
       " 'Filter rides by location': 'location/ride-get/<str:location>/',\n",
       " 'Filter rides by date': 'date/ride-get/<int:startDate>/<int:endDate>/',\n",
       " 'Get single ride attribute': 'field-get/<str:rideId>/<str:fields>/',\n",
       " 'Get attributes of random set of rides': 'random/field-get/<int:count>/<str:fields>/',\n",
       " 'Get attributes of rides filtered by location': 'location/field-get/<str:location>/<str:fields>/',\n",
       " 'Get attributes of rides filtered by date': 'date/field-get/<str:startDate>/<str:endDate>/<str:fields>/',\n",
       " 'Get ocean and motion dataframes as CSV files': 'get-dataframe/<str:rideId>/<str:datatype>',\n",
       " 'Get list of active CDIP buoys': 'buoy-list/'}"
      ]
     },
     "execution_count": 24,
     "metadata": {},
     "output_type": "execute_result"
    }
   ],
   "source": [
    "response = requests.get(apiOverview).json()\n",
    "response"
   ]
  },
  {
   "cell_type": "markdown",
   "metadata": {},
   "source": [
    "get list of api rides"
   ]
  },
  {
   "cell_type": "code",
   "execution_count": 25,
   "metadata": {
    "scrolled": true
   },
   "outputs": [
    {
     "data": {
      "text/plain": [
       "{'ids': []}"
      ]
     },
     "execution_count": 25,
     "metadata": {},
     "output_type": "execute_result"
    }
   ],
   "source": [
    "response = requests.get(rideList).json()\n",
    "response"
   ]
  },
  {
   "cell_type": "markdown",
   "metadata": {},
   "source": [
    "get list of ride data fields"
   ]
  },
  {
   "cell_type": "code",
   "execution_count": 26,
   "metadata": {},
   "outputs": [
    {
     "data": {
      "text/plain": [
       "{'id of smartfin session': 'rideId',\n",
       " 'location (city, county, state) of session': 'loc1, loc2, loc3',\n",
       " 'start time of session': 'startTime',\n",
       " 'end time of session': 'endTime',\n",
       " 'significant wave height calculated by smartfin': 'heightSmartfin',\n",
       " 'significant wave height reported by nearest CDIP buoy': 'heightCDIP',\n",
       " 'calibrated ocean temperature read by smartfin': 'tempSmartfin',\n",
       " 'ocean temperature reported by nearest CDIP buoy': 'tempCDIP',\n",
       " 'nearest CDIP buoy to smartfin session': 'buoyCDIP',\n",
       " 'latitude of smartfin session': 'latitude',\n",
       " 'longitude of smartfin session': 'longitude'}"
      ]
     },
     "execution_count": 26,
     "metadata": {},
     "output_type": "execute_result"
    }
   ],
   "source": [
    "response = requests.get(rideFields).json()\n",
    "response"
   ]
  },
  {
   "cell_type": "markdown",
   "metadata": {},
   "source": [
    "### get multiple random rides"
   ]
  },
  {
   "cell_type": "code",
   "execution_count": 27,
   "metadata": {
    "scrolled": true
   },
   "outputs": [
    {
     "ename": "TypeError",
     "evalue": "string indices must be integers",
     "output_type": "error",
     "traceback": [
      "\u001b[1;31m---------------------------------------------------------------------------\u001b[0m",
      "\u001b[1;31mTypeError\u001b[0m                                 Traceback (most recent call last)",
      "\u001b[1;32m<ipython-input-27-5c2cc8f4e46b>\u001b[0m in \u001b[0;36m<module>\u001b[1;34m\u001b[0m\n\u001b[0;32m      1\u001b[0m \u001b[0mresponse\u001b[0m \u001b[1;33m=\u001b[0m \u001b[0mrequests\u001b[0m\u001b[1;33m.\u001b[0m\u001b[0mget\u001b[0m\u001b[1;33m(\u001b[0m\u001b[0mrideGetRandom\u001b[0m\u001b[1;33m,\u001b[0m \u001b[0mcount\u001b[0m\u001b[1;33m)\u001b[0m\u001b[1;33m\u001b[0m\u001b[1;33m\u001b[0m\u001b[0m\n\u001b[0;32m      2\u001b[0m \u001b[0mdata\u001b[0m \u001b[1;33m=\u001b[0m \u001b[0mresponse\u001b[0m\u001b[1;33m.\u001b[0m\u001b[0mjson\u001b[0m\u001b[1;33m(\u001b[0m\u001b[1;33m)\u001b[0m\u001b[1;33m\u001b[0m\u001b[1;33m\u001b[0m\u001b[0m\n\u001b[1;32m----> 3\u001b[1;33m \u001b[1;33m[\u001b[0m\u001b[0mride\u001b[0m\u001b[1;33m[\u001b[0m\u001b[1;34m'rideId'\u001b[0m\u001b[1;33m]\u001b[0m \u001b[1;32mfor\u001b[0m \u001b[0mride\u001b[0m \u001b[1;32min\u001b[0m \u001b[0mdata\u001b[0m\u001b[1;33m]\u001b[0m\u001b[1;33m\u001b[0m\u001b[1;33m\u001b[0m\u001b[0m\n\u001b[0m",
      "\u001b[1;32m<ipython-input-27-5c2cc8f4e46b>\u001b[0m in \u001b[0;36m<listcomp>\u001b[1;34m(.0)\u001b[0m\n\u001b[0;32m      1\u001b[0m \u001b[0mresponse\u001b[0m \u001b[1;33m=\u001b[0m \u001b[0mrequests\u001b[0m\u001b[1;33m.\u001b[0m\u001b[0mget\u001b[0m\u001b[1;33m(\u001b[0m\u001b[0mrideGetRandom\u001b[0m\u001b[1;33m,\u001b[0m \u001b[0mcount\u001b[0m\u001b[1;33m)\u001b[0m\u001b[1;33m\u001b[0m\u001b[1;33m\u001b[0m\u001b[0m\n\u001b[0;32m      2\u001b[0m \u001b[0mdata\u001b[0m \u001b[1;33m=\u001b[0m \u001b[0mresponse\u001b[0m\u001b[1;33m.\u001b[0m\u001b[0mjson\u001b[0m\u001b[1;33m(\u001b[0m\u001b[1;33m)\u001b[0m\u001b[1;33m\u001b[0m\u001b[1;33m\u001b[0m\u001b[0m\n\u001b[1;32m----> 3\u001b[1;33m \u001b[1;33m[\u001b[0m\u001b[0mride\u001b[0m\u001b[1;33m[\u001b[0m\u001b[1;34m'rideId'\u001b[0m\u001b[1;33m]\u001b[0m \u001b[1;32mfor\u001b[0m \u001b[0mride\u001b[0m \u001b[1;32min\u001b[0m \u001b[0mdata\u001b[0m\u001b[1;33m]\u001b[0m\u001b[1;33m\u001b[0m\u001b[1;33m\u001b[0m\u001b[0m\n\u001b[0m",
      "\u001b[1;31mTypeError\u001b[0m: string indices must be integers"
     ]
    }
   ],
   "source": [
    "response = requests.get(rideGetRandom, count)\n",
    "data = response.json()\n",
    "[ride['rideId'] for ride in data]"
   ]
  },
  {
   "cell_type": "markdown",
   "metadata": {},
   "source": [
    "### get single ride by id"
   ]
  },
  {
   "cell_type": "code",
   "execution_count": null,
   "metadata": {
    "scrolled": true
   },
   "outputs": [],
   "source": [
    "response = requests.get(rideGetSingle).json()\n",
    "response"
   ]
  },
  {
   "cell_type": "markdown",
   "metadata": {},
   "source": [
    "### delete ride by id"
   ]
  },
  {
   "cell_type": "code",
   "execution_count": 18,
   "metadata": {
    "scrolled": true
   },
   "outputs": [
    {
     "data": {
      "text/plain": [
       "<Response [200]>"
      ]
     },
     "execution_count": 18,
     "metadata": {},
     "output_type": "execute_result"
    }
   ],
   "source": [
    "response = requests.delete(rideDelete)\n",
    "response"
   ]
  },
  {
   "cell_type": "code",
   "execution_count": 19,
   "metadata": {},
   "outputs": [
    {
     "data": {
      "text/plain": [
       "b'{\"success\": \"ride \\'13000\\' successfully deleted\"}'"
      ]
     },
     "execution_count": 19,
     "metadata": {},
     "output_type": "execute_result"
    }
   ],
   "source": [
    "response.content"
   ]
  },
  {
   "cell_type": "markdown",
   "metadata": {},
   "source": [
    "### get multiple rides by location"
   ]
  },
  {
   "cell_type": "code",
   "execution_count": 20,
   "metadata": {
    "scrolled": true
   },
   "outputs": [
    {
     "data": {
      "text/plain": [
       "{'Error': 'no rides found in this location'}"
      ]
     },
     "execution_count": 20,
     "metadata": {},
     "output_type": "execute_result"
    }
   ],
   "source": [
    "response = requests.get(rideGetLocation).json()\n",
    "response"
   ]
  },
  {
   "cell_type": "code",
   "execution_count": 21,
   "metadata": {},
   "outputs": [
    {
     "ename": "AttributeError",
     "evalue": "'dict' object has no attribute 'json'",
     "output_type": "error",
     "traceback": [
      "\u001b[1;31m---------------------------------------------------------------------------\u001b[0m",
      "\u001b[1;31mAttributeError\u001b[0m                            Traceback (most recent call last)",
      "\u001b[1;32m<ipython-input-21-45a710df8525>\u001b[0m in \u001b[0;36m<module>\u001b[1;34m\u001b[0m\n\u001b[1;32m----> 1\u001b[1;33m \u001b[0mdata\u001b[0m \u001b[1;33m=\u001b[0m \u001b[0mresponse\u001b[0m\u001b[1;33m.\u001b[0m\u001b[0mjson\u001b[0m\u001b[1;33m(\u001b[0m\u001b[1;33m)\u001b[0m\u001b[1;33m\u001b[0m\u001b[1;33m\u001b[0m\u001b[0m\n\u001b[0m\u001b[0;32m      2\u001b[0m \u001b[1;33m[\u001b[0m\u001b[0mride\u001b[0m\u001b[1;33m[\u001b[0m\u001b[1;34m'rideId'\u001b[0m\u001b[1;33m]\u001b[0m \u001b[1;32mfor\u001b[0m \u001b[0mride\u001b[0m \u001b[1;32min\u001b[0m \u001b[0mdata\u001b[0m\u001b[1;33m]\u001b[0m\u001b[1;33m\u001b[0m\u001b[1;33m\u001b[0m\u001b[0m\n",
      "\u001b[1;31mAttributeError\u001b[0m: 'dict' object has no attribute 'json'"
     ]
    }
   ],
   "source": [
    "data = response.json()\n",
    "[ride['rideId'] for ride in data]"
   ]
  },
  {
   "cell_type": "markdown",
   "metadata": {},
   "source": [
    "### get multiple rides between start and end date"
   ]
  },
  {
   "cell_type": "code",
   "execution_count": 22,
   "metadata": {
    "scrolled": false
   },
   "outputs": [
    {
     "ename": "TypeError",
     "evalue": "string indices must be integers",
     "output_type": "error",
     "traceback": [
      "\u001b[1;31m---------------------------------------------------------------------------\u001b[0m",
      "\u001b[1;31mTypeError\u001b[0m                                 Traceback (most recent call last)",
      "\u001b[1;32m<ipython-input-22-ffa5b31f570d>\u001b[0m in \u001b[0;36m<module>\u001b[1;34m\u001b[0m\n\u001b[0;32m      1\u001b[0m \u001b[0mresponse\u001b[0m \u001b[1;33m=\u001b[0m \u001b[0mrequests\u001b[0m\u001b[1;33m.\u001b[0m\u001b[0mget\u001b[0m\u001b[1;33m(\u001b[0m\u001b[0mrideGetDate\u001b[0m\u001b[1;33m)\u001b[0m\u001b[1;33m\u001b[0m\u001b[1;33m\u001b[0m\u001b[0m\n\u001b[0;32m      2\u001b[0m \u001b[0mdata\u001b[0m \u001b[1;33m=\u001b[0m \u001b[0mresponse\u001b[0m\u001b[1;33m.\u001b[0m\u001b[0mjson\u001b[0m\u001b[1;33m(\u001b[0m\u001b[1;33m)\u001b[0m\u001b[1;33m\u001b[0m\u001b[1;33m\u001b[0m\u001b[0m\n\u001b[1;32m----> 3\u001b[1;33m \u001b[1;33m[\u001b[0m\u001b[0mride\u001b[0m\u001b[1;33m[\u001b[0m\u001b[1;34m'rideId'\u001b[0m\u001b[1;33m]\u001b[0m \u001b[1;32mfor\u001b[0m \u001b[0mride\u001b[0m \u001b[1;32min\u001b[0m \u001b[0mdata\u001b[0m\u001b[1;33m]\u001b[0m\u001b[1;33m\u001b[0m\u001b[1;33m\u001b[0m\u001b[0m\n\u001b[0m",
      "\u001b[1;32m<ipython-input-22-ffa5b31f570d>\u001b[0m in \u001b[0;36m<listcomp>\u001b[1;34m(.0)\u001b[0m\n\u001b[0;32m      1\u001b[0m \u001b[0mresponse\u001b[0m \u001b[1;33m=\u001b[0m \u001b[0mrequests\u001b[0m\u001b[1;33m.\u001b[0m\u001b[0mget\u001b[0m\u001b[1;33m(\u001b[0m\u001b[0mrideGetDate\u001b[0m\u001b[1;33m)\u001b[0m\u001b[1;33m\u001b[0m\u001b[1;33m\u001b[0m\u001b[0m\n\u001b[0;32m      2\u001b[0m \u001b[0mdata\u001b[0m \u001b[1;33m=\u001b[0m \u001b[0mresponse\u001b[0m\u001b[1;33m.\u001b[0m\u001b[0mjson\u001b[0m\u001b[1;33m(\u001b[0m\u001b[1;33m)\u001b[0m\u001b[1;33m\u001b[0m\u001b[1;33m\u001b[0m\u001b[0m\n\u001b[1;32m----> 3\u001b[1;33m \u001b[1;33m[\u001b[0m\u001b[0mride\u001b[0m\u001b[1;33m[\u001b[0m\u001b[1;34m'rideId'\u001b[0m\u001b[1;33m]\u001b[0m \u001b[1;32mfor\u001b[0m \u001b[0mride\u001b[0m \u001b[1;32min\u001b[0m \u001b[0mdata\u001b[0m\u001b[1;33m]\u001b[0m\u001b[1;33m\u001b[0m\u001b[1;33m\u001b[0m\u001b[0m\n\u001b[0m",
      "\u001b[1;31mTypeError\u001b[0m: string indices must be integers"
     ]
    }
   ],
   "source": [
    "response = requests.get(rideGetDate)\n",
    "data = response.json()\n",
    "[ride['rideId'] for ride in data]"
   ]
  },
  {
   "cell_type": "markdown",
   "metadata": {},
   "source": [
    "## Get field(s) of ride(s)\n",
    "gets a single attribute of a ride in the database. If count = 1, then we only retrieve the specified ride id, if count > 1, retrieve that amount of rides randomly"
   ]
  },
  {
   "cell_type": "code",
   "execution_count": null,
   "metadata": {},
   "outputs": [],
   "source": [
    "fields = 'heightSmartfin'\n",
    "count = 5\n",
    "\n",
    "if testing:\n",
    "    fieldGetSingle = f'http://127.0.0.1:8000/ride/field-get/{rideId}/{fields}/' # creates new ride and upload all ride data to db\n",
    "    fieldGetRandom = f'http://127.0.0.1:8000/ride/random/field-get/{count}/{fields}/' # creates new ride and upload all ride data to db\n",
    "    fieldGetLocation = f'http://127.0.0.1:8000/ride/location/field-get/{location}/{fields}/' # creates new ride and upload all ride data to db\n",
    "    fieldGetDate = f'http://127.0.0.1:8000/ride/date/field-get/{startDate}/{endDate}/{fields}/' # creates new ride and upload all ride data to db\n",
    "else:\n",
    "    fieldGetSingle = f'https://lit-sands-95859.herokuapp.com/ride/field-get/{rideId}/{fields}/' # creates new ride and upload all ride data to db\n",
    "    fieldGetRandom = f'https://lit-sands-95859.herokuapp.com/ride/random/field-get/{count}/{fields}/' # creates new ride and upload all ride data to db\n",
    "    fieldGetLocation = f'https://lit-sands-95859.herokuapp.com/ride/location/field-get/{location}/{fields}/' # creates new ride and upload all ride data to db\n",
    "    fieldGetDate = f'https://lit-sands-95859.herokuapp.com/ride/date/field-get/{startDate}/{endDate}/{fields}/' # creates new ride and upload all ride data to db\n"
   ]
  },
  {
   "cell_type": "code",
   "execution_count": null,
   "metadata": {
    "scrolled": true
   },
   "outputs": [],
   "source": [
    "response = requests.get(fieldGetSingle).json()\n",
    "response"
   ]
  },
  {
   "cell_type": "code",
   "execution_count": null,
   "metadata": {},
   "outputs": [],
   "source": [
    "response['heightSmartfin']"
   ]
  },
  {
   "cell_type": "markdown",
   "metadata": {},
   "source": [
    "### get fields of random rides"
   ]
  },
  {
   "cell_type": "code",
   "execution_count": null,
   "metadata": {
    "scrolled": true
   },
   "outputs": [],
   "source": [
    "response = requests.get(fieldGetRandom)\n",
    "response.json()['data']"
   ]
  },
  {
   "cell_type": "markdown",
   "metadata": {},
   "source": [
    "### get fields of rides by location"
   ]
  },
  {
   "cell_type": "code",
   "execution_count": null,
   "metadata": {
    "scrolled": false
   },
   "outputs": [],
   "source": [
    "response = requests.get(fieldGetLocation)\n",
    "response.json()['data']"
   ]
  },
  {
   "cell_type": "markdown",
   "metadata": {},
   "source": [
    "### get fields of rides by date"
   ]
  },
  {
   "cell_type": "code",
   "execution_count": null,
   "metadata": {},
   "outputs": [],
   "source": [
    "response = requests.get(fieldGetDate)\n",
    "response.json()['data']"
   ]
  },
  {
   "cell_type": "markdown",
   "metadata": {},
   "source": [
    "### list all active CDIP buoys"
   ]
  },
  {
   "cell_type": "code",
   "execution_count": null,
   "metadata": {},
   "outputs": [],
   "source": [
    "if testing:\n",
    "    buoyList = 'http://127.0.0.1:8000/ride/buoy-list'\n",
    "else:\n",
    "    buoyList = 'https://lit-sands-95859.herokuapp.com/ride/buoy-list/'"
   ]
  },
  {
   "cell_type": "code",
   "execution_count": null,
   "metadata": {
    "scrolled": true
   },
   "outputs": [],
   "source": [
    "response = requests.get(buoyList)\n",
    "data = response.json()\n",
    "data"
   ]
  },
  {
   "cell_type": "markdown",
   "metadata": {},
   "source": [
    "### get dataframes"
   ]
  },
  {
   "cell_type": "code",
   "execution_count": null,
   "metadata": {
    "scrolled": true
   },
   "outputs": [],
   "source": [
    "\n",
    "if not testing:\n",
    "    q = 'https://lit-sands-95859.herokuapp.com/ride/get-dataframe/15692/motion'\n",
    "else:\n",
    "    q = 'http://127.0.0.1:8000/ride/get-dataframe/15692/motion'\n",
    "response = requests.get(q)\n",
    "response"
   ]
  },
  {
   "cell_type": "code",
   "execution_count": null,
   "metadata": {
    "scrolled": true
   },
   "outputs": [],
   "source": [
    "pd.read_csv(BytesIO(response.content))"
   ]
  },
  {
   "cell_type": "code",
   "execution_count": null,
   "metadata": {},
   "outputs": [],
   "source": []
  },
  {
   "cell_type": "code",
   "execution_count": null,
   "metadata": {},
   "outputs": [],
   "source": []
  }
 ],
 "metadata": {
  "kernelspec": {
   "display_name": "Python 3",
   "language": "python",
   "name": "python3"
  },
  "language_info": {
   "codemirror_mode": {
    "name": "ipython",
    "version": 3
   },
   "file_extension": ".py",
   "mimetype": "text/x-python",
   "name": "python",
   "nbconvert_exporter": "python",
   "pygments_lexer": "ipython3",
   "version": "3.8.3"
  }
 },
 "nbformat": 4,
 "nbformat_minor": 4
}
