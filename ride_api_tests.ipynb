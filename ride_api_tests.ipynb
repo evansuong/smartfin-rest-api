{
 "cells": [
  {
   "cell_type": "markdown",
   "metadata": {},
   "source": [
    "# Smartfin Ride API\n",
    "The Smartfin Ride API makes it quick and easy to obtain smartfin ride data using a Django REST API. \n",
    "\n",
    "All ride queries go through the ride endpoint, so all urls should be in the format:\n",
    "\"[domain name]/ride/\""
   ]
  },
  {
   "cell_type": "code",
   "execution_count": 1,
   "metadata": {},
   "outputs": [],
   "source": [
    "# jasmines ride ids\n",
    "# 14743 - Motion Control July 10th\n",
    "# 14750 - Magnetometer Control July 11th\n",
    "# 14814 - Pool Displacement Control July 17th\n",
    "# 14815 - Compass Orientation (Lying on Charger Side) July 19th\n",
    "# 14816 - Orientation w Higher Sampling (Lying on Charger Side) July 20th\n",
    "# 14827 - Pool Displacement Control w Higher Sampling (Jul 23)\n",
    "# 14888 - First Buoy Calibration Experiment (July 30)\n",
    "# 15218 - Jasmine's Second Ride Sesh filmed with GoPro (Aug 29) //no footage\n",
    "# 15629 - Jasmine's First Ride Sesh filmed with VIRB (Oct. 24) //first labelled footage!\n",
    "# 15669 - Jasmine's Second Ride Sesh filmed with VIRB (Nov. 7) //second labelled footage!\n",
    "# 15692 - Jasmine's 3rd Ride Sesh filmed with VIRB (Nov. 9) //third labelled footage!\n",
    "# 15686 - Jasmine's 4th Ride Sesh filmed with VIRB (Nov. 11) //fourth labelled footage!"
   ]
  },
  {
   "cell_type": "code",
   "execution_count": 2,
   "metadata": {},
   "outputs": [],
   "source": [
    "base_url_example = f'http://127.0.0.1:8000/ride/'"
   ]
  },
  {
   "cell_type": "code",
   "execution_count": 3,
   "metadata": {},
   "outputs": [],
   "source": [
    "rideId = '30000'\n",
    "field = 'heightSmartfin'\n",
    "fieldGetSingleExample = f'http://127.0.0.1:8000/ride/field-get/{rideId}/{field}/'"
   ]
  },
  {
   "cell_type": "markdown",
   "metadata": {},
   "source": [
    "## EXAMPLES OF EACH FUNCTION"
   ]
  },
  {
   "cell_type": "code",
   "execution_count": 4,
   "metadata": {},
   "outputs": [],
   "source": [
    "# imports\n",
    "import requests\n",
    "import pandas as pd\n",
    "from io import BytesIO"
   ]
  },
  {
   "cell_type": "markdown",
   "metadata": {},
   "source": [
    "## URLs"
   ]
  },
  {
   "cell_type": "markdown",
   "metadata": {},
   "source": [
    "'List all ride ids': '/ride-list/',\n",
    "\n",
    "'List all the ride fields': '/ride-fields/'\n",
    "\n",
    "'Get single ride': '/ride-get/<str:rideId>/',\n",
    "\n",
    "'Get random set of rides': '/many/ride-get/<int:count>/',\n",
    "\n",
    "'Filter rides by location': '/location/ride-get/<str:location>/',\n",
    "\n",
    "'Filter rides by date': '/date/ride-get/<str:startDate>/<str:endDate>/',\n",
    "\n",
    "'Get single ride attribute': 'field-get/<str:rideId>/<str:fields>/',\n",
    "\n",
    "'Get attributes of random set of rides': 'random/field-get/<int:count>/<str:fields>/',\n",
    "\n",
    "'Get attributes of rides filtered by location': 'location/field-get/<str:location>/<str:fields>/', \n",
    "\n",
    "'Get attributes of rides filtered by date': 'date/field-get/<str:startDate>/<str:endDate>/<str:fields>/',\n",
    "\n",
    "'Update heights of all rides in database': 'update-heights/',\n",
    "'Get list of active CDIP buoys': 'buoy-list/'"
   ]
  },
  {
   "cell_type": "code",
   "execution_count": 5,
   "metadata": {},
   "outputs": [],
   "source": [
    "testing = True # determines what url we are requesting from"
   ]
  },
  {
   "cell_type": "markdown",
   "metadata": {},
   "source": [
    "## api info queries"
   ]
  },
  {
   "cell_type": "markdown",
   "metadata": {},
   "source": [
    "#### get all the ride ids in the database"
   ]
  },
  {
   "cell_type": "code",
   "execution_count": 6,
   "metadata": {},
   "outputs": [],
   "source": [
    "if testing: \n",
    "    apiOverview = f'http://127.0.0.1:8000/ride'\n",
    "else:\n",
    "    apiOverview = f'https://lit-sands-95859.herokuapp.com/ride'"
   ]
  },
  {
   "cell_type": "code",
   "execution_count": 7,
   "metadata": {
    "scrolled": false
   },
   "outputs": [
    {
     "data": {
      "text/plain": [
       "{'List api endpoints': '/',\n",
       " 'List ride fields': '/fields',\n",
       " 'Get all rides in db': '/rides',\n",
       " 'Get field of all rides in db': '/rides/fields=<str:fields>',\n",
       " 'Get single ride': '/rides/rideId=<str:rideId>',\n",
       " 'Filter rides by location': '/rides/location=<str:location>',\n",
       " 'Filter rides by date': '/rides/startDate=<str:startDate>,endDate=<str:endDate>',\n",
       " 'Get single ride attribute': 'rides/rideId=<str:rideId>/fields=<str:fields>',\n",
       " 'Get attributes of rides filtered by location': 'rides/location=<str:location>/fields=<str:fields>',\n",
       " 'Get attributes of rides filtered by date': 'rides/startDate=<str:startDate>,endDate=<str:endDate>/fields=<str:fields>',\n",
       " 'Update heights of all rides in database': 'update-heights',\n",
       " 'Get list of active CDIP buoys': 'buoys'}"
      ]
     },
     "execution_count": 7,
     "metadata": {},
     "output_type": "execute_result"
    }
   ],
   "source": [
    "response = requests.get(apiOverview).json()\n",
    "response"
   ]
  },
  {
   "cell_type": "markdown",
   "metadata": {},
   "source": [
    "#### get list of ride data fields"
   ]
  },
  {
   "cell_type": "code",
   "execution_count": 8,
   "metadata": {},
   "outputs": [],
   "source": [
    "if testing:\n",
    "    rideFields = f'http://127.0.0.1:8000/ride/fields'\n",
    "else:\n",
    "    rideFields = f'https://lit-sands-95859.herokuapp.com/ride/fields'"
   ]
  },
  {
   "cell_type": "code",
   "execution_count": 9,
   "metadata": {
    "scrolled": true
   },
   "outputs": [
    {
     "data": {
      "text/plain": [
       "{'id of smartfin session': 'rideId',\n",
       " 'location (city, county, state) of session': 'loc1, loc2, loc3',\n",
       " 'start time of session': 'startTime',\n",
       " 'end time of session': 'endTime',\n",
       " 'significant wave height calculated by smartfin': 'heightSmartfin',\n",
       " 'significant wave height reported by nearest CDIP buoy': 'heightCDIP',\n",
       " 'calibrated ocean temperature read by smartfin': 'tempSmartfin',\n",
       " 'ocean temperature reported by nearest CDIP buoy': 'tempCDIP',\n",
       " 'nearest CDIP buoy to smartfin session': 'buoyCDIP',\n",
       " 'latitude of smartfin session': 'latitude',\n",
       " 'longitude of smartfin session': 'longitude'}"
      ]
     },
     "execution_count": 9,
     "metadata": {},
     "output_type": "execute_result"
    }
   ],
   "source": [
    "response = requests.get(rideFields).json()\n",
    "response"
   ]
  },
  {
   "cell_type": "markdown",
   "metadata": {},
   "source": [
    "## get ride data"
   ]
  },
  {
   "cell_type": "markdown",
   "metadata": {},
   "source": [
    "#### get all rides in db"
   ]
  },
  {
   "cell_type": "code",
   "execution_count": 10,
   "metadata": {
    "scrolled": false
   },
   "outputs": [
    {
     "data": {
      "text/plain": [
       "[]"
      ]
     },
     "execution_count": 10,
     "metadata": {},
     "output_type": "execute_result"
    }
   ],
   "source": [
    "if testing:\n",
    "    rideList = f'http://127.0.0.1:8000/ride/rides'\n",
    "else:\n",
    "    rideList = f'https://lit-sands-95859.herokuapp.com/ride/rides'\n",
    "\n",
    "response = requests.get(rideList).json()\n",
    "response"
   ]
  },
  {
   "cell_type": "markdown",
   "metadata": {},
   "source": [
    "#### get fields of all rides in db"
   ]
  },
  {
   "cell_type": "code",
   "execution_count": 11,
   "metadata": {},
   "outputs": [
    {
     "data": {
      "text/plain": [
       "{'data': []}"
      ]
     },
     "execution_count": 11,
     "metadata": {},
     "output_type": "execute_result"
    }
   ],
   "source": [
    "if testing:\n",
    "    rideList = f'http://127.0.0.1:8000/ride/rides/fields=heightSmartfin,tempSmartfin'\n",
    "else:\n",
    "    rideList = f'https://lit-sands-95859.herokuapp.com/ride/rides/fields=heightSmartfin,tempSmartfin'\n",
    "\n",
    "response = requests.get(rideList).json()\n",
    "response"
   ]
  },
  {
   "cell_type": "markdown",
   "metadata": {},
   "source": [
    "### get single ride by id"
   ]
  },
  {
   "cell_type": "code",
   "execution_count": null,
   "metadata": {
    "scrolled": true
   },
   "outputs": [],
   "source": [
    "rideId = '15692'\n",
    "testing=True\n",
    "if testing:\n",
    "    rideGetSingle = f'http://127.0.0.1:8000/ride/rides/rideId={rideId}' # creates new ride and upload all ride data to db\n",
    "else:\n",
    "    rideGetSingle = f'https://lit-sands-95859.herokuapp.com/ride/rides/rideId={rideId}' # creates new ride and upload all ride data to db\n",
    "\n",
    "response = requests.get(rideGetSingle).json()\n",
    "response"
   ]
  },
  {
   "cell_type": "markdown",
   "metadata": {},
   "source": [
    "### get rides filtered by location"
   ]
  },
  {
   "cell_type": "code",
   "execution_count": null,
   "metadata": {
    "scrolled": true
   },
   "outputs": [],
   "source": [
    "location = 'San Diego'\n",
    "\n",
    "if testing:\n",
    "    rideGetLocation = f'http://127.0.0.1:8000/ride/rides?location={location}' # creates new ride and upload all ride data to db\n",
    "else:\n",
    "    rideGetLocation = f'https://lit-sands-95859.herokuapp.com/ride/rides/location={location}' # creates new ride and upload all ride data to db\n",
    "\n",
    "response = requests.get(rideGetLocation).json()\n",
    "response"
   ]
  },
  {
   "cell_type": "markdown",
   "metadata": {},
   "source": [
    "### get multiple rides between start and end date"
   ]
  },
  {
   "cell_type": "code",
   "execution_count": null,
   "metadata": {
    "scrolled": true
   },
   "outputs": [],
   "source": [
    "startDate = '1541030400'\n",
    "endDate = '1552566400'\n",
    "\n",
    "if testing:\n",
    "    rideGetDate = f'http://127.0.0.1:8000/ride/rides/startDate={startDate},endDate={endDate}' # creates new ride and upload all ride data to db\n",
    "else:\n",
    "    rideGetDate = f'https://lit-sands-95859.herokuapp.com/ride/rides/startDate={startDate},endDate={endDate}'  # creates new ride and upload all r\n",
    "\n",
    "response = requests.get(rideGetDate).json()\n",
    "response"
   ]
  },
  {
   "cell_type": "markdown",
   "metadata": {},
   "source": [
    "## Get field(s) of ride(s)\n",
    "gets a single attribute of a ride in the database. If count = 1, then we only retrieve the specified ride id, if count > 1, retrieve that amount of rides randomly"
   ]
  },
  {
   "cell_type": "code",
   "execution_count": null,
   "metadata": {
    "scrolled": true
   },
   "outputs": [],
   "source": [
    "fields = 'heightSmartfin,heightCDIP'\n",
    "\n",
    "\n",
    "if testing:\n",
    "    fieldGetSingle = f'http://127.0.0.1:8000/ride/rides/rideId={rideId}/fields={fields}' # creates new ride and upload all ride data to db\n",
    "else:\n",
    "    fieldGetSingle = f'https://lit-sands-95859.herokuapp.com/ride/rides/rideId={rideId}/fields={fields}' # creates new ride and upload all ride data to db\n",
    "\n",
    "response = requests.get(fieldGetSingle).json()\n",
    "response"
   ]
  },
  {
   "cell_type": "markdown",
   "metadata": {},
   "source": [
    "### get fields of rides by location"
   ]
  },
  {
   "cell_type": "code",
   "execution_count": null,
   "metadata": {
    "scrolled": true
   },
   "outputs": [],
   "source": [
    "location = 'San Diego'\n",
    "\n",
    "if testing:\n",
    "    fieldGetLocation = f'http://127.0.0.1:8000/ride/rides/location={location}/fields={fields}' # creates new ride and upload all ride data to db\n",
    "else:\n",
    "    fieldGetLocation = f'https://lit-sands-95859.herokuapp.com/ride/rides/location={location}/fields={fields}' # creates new ride and upload all ride data to db\n",
    "\n",
    "response = requests.get(fieldGetLocation)\n",
    "response.json()['data']"
   ]
  },
  {
   "cell_type": "markdown",
   "metadata": {},
   "source": [
    "### get fields of rides by date"
   ]
  },
  {
   "cell_type": "code",
   "execution_count": null,
   "metadata": {},
   "outputs": [],
   "source": [
    "startDate = '1541030400'\n",
    "endDate = '1552566400'\n",
    "\n",
    "if testing:\n",
    "    fieldGetDate = f'http://127.0.0.1:8000/ride/rides/startDate={startDate},endDate={endDate}/fields={fields}' # creates new ride and upload all ride data to db\n",
    "else:\n",
    "    fieldGetDate = f'https://lit-sands-95859.herokuapp.com/ride/rides/startDate={startDate},endDate={endDate}/fields={fields}' # creates new ride and upload all ride data to db\n",
    "\n",
    "    \n",
    "\n",
    "response = requests.get(fieldGetDate).json()\n",
    "response"
   ]
  },
  {
   "cell_type": "markdown",
   "metadata": {},
   "source": [
    "### list all active CDIP buoys"
   ]
  },
  {
   "cell_type": "code",
   "execution_count": null,
   "metadata": {},
   "outputs": [],
   "source": [
    "if testing:\n",
    "    buoyList = 'http://127.0.0.1:8000/ride/buoys'\n",
    "else:\n",
    "    buoyList = 'https://lit-sands-95859.herokuapp.com/ride/buoys'"
   ]
  },
  {
   "cell_type": "code",
   "execution_count": null,
   "metadata": {
    "scrolled": true
   },
   "outputs": [],
   "source": [
    "response = requests.get(buoyList)\n",
    "data = response.json()\n",
    "data"
   ]
  },
  {
   "cell_type": "markdown",
   "metadata": {},
   "source": [
    "### get dataframes"
   ]
  },
  {
   "cell_type": "code",
   "execution_count": null,
   "metadata": {
    "scrolled": true
   },
   "outputs": [],
   "source": [
    "rideId='15692'\n",
    "dftype= 'motion'\n",
    "\n",
    "if testing:\n",
    "    getdf = f'http://127.0.0.1:8000/ride/rides/rideId={rideId}/dataframes/type={dftype}'\n",
    "\n",
    "else:\n",
    "    getdf = f'https://lit-sands-95859.herokuapp.com/ride/rides/rideId={rideId}/dataframes/type={dftype}'\n",
    "    \n",
    "response = requests.get(getdf)\n",
    "response"
   ]
  },
  {
   "cell_type": "code",
   "execution_count": null,
   "metadata": {
    "scrolled": false
   },
   "outputs": [],
   "source": [
    "mdf = pd.read_csv(BytesIO(response.content))\n",
    "mdf"
   ]
  },
  {
   "cell_type": "markdown",
   "metadata": {},
   "source": [
    "### delete ride by id"
   ]
  },
  {
   "cell_type": "code",
   "execution_count": null,
   "metadata": {},
   "outputs": [],
   "source": [
    "rideId = '15692'\n",
    "if testing:\n",
    "    rideDelete = f'http://127.0.0.1:8000/ride/rides/rideId={rideId}'\n",
    "else:\n",
    "    rideDelete = f'https://lit-sands-95859.herokuapp.com/ride/rides/rideId={rideId}'\n",
    "\n",
    "response = requests.delete(rideDelete)\n",
    "response.content"
   ]
  }
 ],
 "metadata": {
  "kernelspec": {
   "display_name": "Python 3",
   "language": "python",
   "name": "python3"
  },
  "language_info": {
   "codemirror_mode": {
    "name": "ipython",
    "version": 3
   },
   "file_extension": ".py",
   "mimetype": "text/x-python",
   "name": "python",
   "nbconvert_exporter": "python",
   "pygments_lexer": "ipython3",
   "version": "3.8.3"
  }
 },
 "nbformat": 4,
 "nbformat_minor": 4
}
