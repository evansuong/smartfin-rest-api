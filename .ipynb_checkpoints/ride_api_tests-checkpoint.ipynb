{
 "cells": [
  {
   "cell_type": "markdown",
   "metadata": {},
   "source": [
    "# Smartfin Ride API\n",
    "The Smartfin Ride API makes it quick and easy to obtain smartfin ride data using a Django REST API. \n",
    "\n",
    "All ride queries go through the ride endpoint, so all urls should be in the format:\n",
    "\"[domain name]/ride/\""
   ]
  },
  {
   "cell_type": "code",
   "execution_count": 37,
   "metadata": {},
   "outputs": [],
   "source": [
    "# jasmines ride ids\n",
    "# 14743 - Motion Control July 10th\n",
    "# 14750 - Magnetometer Control July 11th\n",
    "# 14814 - Pool Displacement Control July 17th\n",
    "# 14815 - Compass Orientation (Lying on Charger Side) July 19th\n",
    "# 14816 - Orientation w Higher Sampling (Lying on Charger Side) July 20th\n",
    "# 14827 - Pool Displacement Control w Higher Sampling (Jul 23)\n",
    "# 14888 - First Buoy Calibration Experiment (July 30)\n",
    "# 15218 - Jasmine's Second Ride Sesh filmed with GoPro (Aug 29) //no footage\n",
    "# 15629 - Jasmine's First Ride Sesh filmed with VIRB (Oct. 24) //first labelled footage!\n",
    "# 15669 - Jasmine's Second Ride Sesh filmed with VIRB (Nov. 7) //second labelled footage!\n",
    "# 15692 - Jasmine's 3rd Ride Sesh filmed with VIRB (Nov. 9) //third labelled footage!\n",
    "# 15686 - Jasmine's 4th Ride Sesh filmed with VIRB (Nov. 11) //fourth labelled footage!"
   ]
  },
  {
   "cell_type": "code",
   "execution_count": 38,
   "metadata": {},
   "outputs": [],
   "source": [
    "base_url_example = f'http://127.0.0.1:8000/ride/'"
   ]
  },
  {
   "cell_type": "markdown",
   "metadata": {},
   "source": [
    "you can add \"many/\" to the url, causing it to return multiple random rides worth of Smartfin data, and you can specify how many by inputting that number to the url as well along with the request's regular parameters. \n",
    "\n",
    "Here is an example of the url for retrieving the smartfinHeight of 20 rides:"
   ]
  },
  {
   "cell_type": "code",
   "execution_count": 39,
   "metadata": {},
   "outputs": [],
   "source": [
    "fieldGetManyExample =  f'http://127.0.0.1:8000/ride/many/field-get/heightSmartfin/20'"
   ]
  },
  {
   "cell_type": "markdown",
   "metadata": {},
   "source": [
    "if you just want to get one ride's worth of data, don't add \"many/\" to the url and just pass in the ride id instead of the count. Here is the same query but for one ride:"
   ]
  },
  {
   "cell_type": "code",
   "execution_count": 40,
   "metadata": {},
   "outputs": [],
   "source": [
    "rideId = '15692'\n",
    "field = 'heightSmartfin'\n",
    "fieldGetSingleExample = f'http://127.0.0.1:8000/ride/field-get/{rideId}/{field}/'"
   ]
  },
  {
   "cell_type": "markdown",
   "metadata": {},
   "source": [
    "## EXAMPLES OF EACH FUNCTION"
   ]
  },
  {
   "cell_type": "code",
   "execution_count": 41,
   "metadata": {},
   "outputs": [],
   "source": [
    "# imports\n",
    "import requests\n",
    "import pandas as pd\n",
    "from io import StringIO"
   ]
  },
  {
   "cell_type": "markdown",
   "metadata": {},
   "source": [
    "## URLs"
   ]
  },
  {
   "cell_type": "markdown",
   "metadata": {},
   "source": [
    "'List all ride ids': '/ride-list/',\n",
    "\n",
    "'List all the ride fields': '/ride-fields/'\n",
    "\n",
    "'Get single ride': '/ride-get/<str:rideId>/',\n",
    "\n",
    "'Get random set of rides': '/many/ride-get/<int:count>/',\n",
    "\n",
    "'Filter rides by location': '/location/ride-get/<str:location>/',\n",
    "\n",
    "'Filter rides by date': '/date/ride-get/<str:startDate>/<str:endDate>/',\n",
    "\n",
    "'Get single ride attribute': 'field-get/<str:rideId>/<str:fields>/',\n",
    "\n",
    "'Get attributes of random set of rides': 'random/field-get/<int:count>/<str:fields>/',\n",
    "\n",
    "'Get attributes of rides filtered by location': 'location/field-get/<str:location>/<str:fields>/', \n",
    "\n",
    "'Get attributes of rides filtered by date': 'date/field-get/<str:startDate>/<str:endDate>/<str:fields>/',\n",
    "\n",
    "'Update heights of all rides in database': 'update-heights/',\n",
    "'Get list of active CDIP buoys': 'buoy-list/'"
   ]
  },
  {
   "cell_type": "code",
   "execution_count": 42,
   "metadata": {},
   "outputs": [],
   "source": [
    "testing = True # determines what url we are requesting from"
   ]
  },
  {
   "cell_type": "markdown",
   "metadata": {},
   "source": [
    "## Create / Get New Ride(s)\n",
    "This query takes a rideId parameter and searches the database for that ride. If it doesn't exist then a new ride is created and all the data is uploaded and returned as a response. If the ride exists, then it just gets returned as a response. The actual data can be extracted from the response object using response.json() which formats the data as a python dictionary"
   ]
  },
  {
   "cell_type": "code",
   "execution_count": 43,
   "metadata": {},
   "outputs": [],
   "source": [
    "rideId = '15692'\n",
    "count = '20'\n",
    "location = 'San Diego'\n",
    "# location = 'San Diego:Orange County'\n",
    "startDate = '1541030400'\n",
    "endDate = '1552566400'\n",
    "\n",
    "\n",
    "if testing:\n",
    "    apiOverview = f'http://127.0.0.1:8000/ride/'\n",
    "    rideList = f'http://127.0.0.1:8000/ride/ride-list/'\n",
    "    rideFields = f'http://127.0.0.1:8000/ride/ride-fields/'\n",
    "    rideGetSingle = f'http://127.0.0.1:8000/ride/ride-get/{rideId}/' # creates new ride and upload all ride data to db\n",
    "    rideGetRandom = f'http://127.0.0.1:8000/ride/random/ride-get/{count}/' # creates new ride and upload all ride data to db\n",
    "    rideGetLocation = f'http://127.0.0.1:8000/ride/location/ride-get/{location}/' # creates new ride and upload all ride data to db\n",
    "    rideGetDate = f'http://127.0.0.1:8000/ride/date/ride-get/{startDate}/{endDate}/' # creates new ride and upload all ride data to db\n",
    "else:\n",
    "    apiOverview = f'https://lit-sands-95859.herokuapp.com/ride/'\n",
    "    rideList = f'https://lit-sands-95859.herokuapp.com/ride/ride-list/'\n",
    "    rideFields = f'https://lit-sands-95859.herokuapp.com/ride/ride-fields/'\n",
    "    rideGetSingle = f'https://lit-sands-95859.herokuapp.com/ride/ride-get/{rideId}/' # creates new ride and upload all ride data to db\n",
    "    rideGetRandom = f'https://lit-sands-95859.herokuapp.com/ride/random/ride-get/{count}/' # creates new ride and upload all ride data to db\n",
    "    rideGetLocation = f'https://lit-sands-95859.herokuapp.com/ride/location/ride-get/{location}/' # creates new ride and upload all ride data to db\n",
    "    rideGetDate = f'https://lit-sands-95859.herokuapp.com/ride/date/ride-get/{startDate}/{endDate}/' # creates new ride and upload all r"
   ]
  },
  {
   "cell_type": "markdown",
   "metadata": {},
   "source": [
    "### get api info"
   ]
  },
  {
   "cell_type": "markdown",
   "metadata": {},
   "source": [
    "get all the ride ids in the database"
   ]
  },
  {
   "cell_type": "code",
   "execution_count": 44,
   "metadata": {},
   "outputs": [
    {
     "data": {
      "text/plain": [
       "{'List all ride ids': '/ride-list/',\n",
       " 'List ride fields': '/ride-fields/',\n",
       " 'Get single ride': '/ride-get/<str:rideId>/',\n",
       " 'Get random set of rides': '/many/ride-get/<int:count>/',\n",
       " 'Filter rides by location': '/location/ride-get/<str:location>/',\n",
       " 'Filter rides by date': '/date/ride-get/<str:startDate>/<str:endDate>/',\n",
       " 'Get single ride attribute': 'field-get/<str:rideId>/<str:fields>/',\n",
       " 'Get attributes of random set of rides': 'random/field-get/<int:count>/<str:fields>/',\n",
       " 'Get attributes of rides filtered by location': 'location/field-get/<str:location>/<str:fields>/',\n",
       " 'Get attributes of rides filtered by date': 'date/field-get/<str:startDate>/<str:endDate>/<str:fields>/',\n",
       " 'Update heights of all rides in database': 'update-heights/',\n",
       " 'Get list of active CDIP buoys': 'buoy-list/'}"
      ]
     },
     "execution_count": 44,
     "metadata": {},
     "output_type": "execute_result"
    }
   ],
   "source": [
    "response = requests.get(apiOverview).json()\n",
    "response"
   ]
  },
  {
   "cell_type": "markdown",
   "metadata": {},
   "source": [
    "get list of api rides"
   ]
  },
  {
   "cell_type": "code",
   "execution_count": 45,
   "metadata": {
    "scrolled": true
   },
   "outputs": [
    {
     "data": {
      "text/plain": [
       "{'ids': []}"
      ]
     },
     "execution_count": 45,
     "metadata": {},
     "output_type": "execute_result"
    }
   ],
   "source": [
    "response = requests.get(rideList).json()\n",
    "response"
   ]
  },
  {
   "cell_type": "markdown",
   "metadata": {},
   "source": [
    "get list of ride data fields"
   ]
  },
  {
   "cell_type": "code",
   "execution_count": 46,
   "metadata": {},
   "outputs": [
    {
     "data": {
      "text/plain": [
       "{'id of smartfin session': 'rideId',\n",
       " 'location (city, county, state) of session': 'loc1, loc2, loc3',\n",
       " 'start time of session': 'startTime',\n",
       " 'end time of session': 'endTime',\n",
       " 'significant wave height calculated by smartfin': 'heightSmartfin',\n",
       " 'significant wave height reported by nearest CDIP buoy': 'heightCDIP',\n",
       " 'time series displacement data calcualted by smartfin': 'heightList',\n",
       " 'time series temperature data calcualted by smartfin': 'tempList',\n",
       " 'sample rate of smartfin IMU time series data': 'heightSampleRate',\n",
       " 'sample rate of smartfin ocean time series  data': 'tempSampleRate',\n",
       " 'calibrated ocean temperature read by smartfin': 'tempSmartfin',\n",
       " 'ocean temperature reported by nearest CDIP buoy': 'tempCDIP',\n",
       " 'nearest CDIP buoy to smartfin session': 'buoyCDIP',\n",
       " 'latitude of smartfin session': 'latitude',\n",
       " 'longitude of smartfin session': 'longitude',\n",
       " 'IMU data csv file': 'motionData',\n",
       " 'ocean sensor csv file': 'oceanData'}"
      ]
     },
     "execution_count": 46,
     "metadata": {},
     "output_type": "execute_result"
    }
   ],
   "source": [
    "response = requests.get(rideFields).json()\n",
    "response"
   ]
  },
  {
   "cell_type": "markdown",
   "metadata": {},
   "source": [
    "### get multiple random rides"
   ]
  },
  {
   "cell_type": "code",
   "execution_count": 47,
   "metadata": {
    "scrolled": true
   },
   "outputs": [
    {
     "ename": "JSONDecodeError",
     "evalue": "Expecting value: line 1 column 1 (char 0)",
     "output_type": "error",
     "traceback": [
      "\u001b[1;31m---------------------------------------------------------------------------\u001b[0m",
      "\u001b[1;31mJSONDecodeError\u001b[0m                           Traceback (most recent call last)",
      "\u001b[1;32m<ipython-input-47-5c2cc8f4e46b>\u001b[0m in \u001b[0;36m<module>\u001b[1;34m\u001b[0m\n\u001b[0;32m      1\u001b[0m \u001b[0mresponse\u001b[0m \u001b[1;33m=\u001b[0m \u001b[0mrequests\u001b[0m\u001b[1;33m.\u001b[0m\u001b[0mget\u001b[0m\u001b[1;33m(\u001b[0m\u001b[0mrideGetRandom\u001b[0m\u001b[1;33m,\u001b[0m \u001b[0mcount\u001b[0m\u001b[1;33m)\u001b[0m\u001b[1;33m\u001b[0m\u001b[1;33m\u001b[0m\u001b[0m\n\u001b[1;32m----> 2\u001b[1;33m \u001b[0mdata\u001b[0m \u001b[1;33m=\u001b[0m \u001b[0mresponse\u001b[0m\u001b[1;33m.\u001b[0m\u001b[0mjson\u001b[0m\u001b[1;33m(\u001b[0m\u001b[1;33m)\u001b[0m\u001b[1;33m\u001b[0m\u001b[1;33m\u001b[0m\u001b[0m\n\u001b[0m\u001b[0;32m      3\u001b[0m \u001b[1;33m[\u001b[0m\u001b[0mride\u001b[0m\u001b[1;33m[\u001b[0m\u001b[1;34m'rideId'\u001b[0m\u001b[1;33m]\u001b[0m \u001b[1;32mfor\u001b[0m \u001b[0mride\u001b[0m \u001b[1;32min\u001b[0m \u001b[0mdata\u001b[0m\u001b[1;33m]\u001b[0m\u001b[1;33m\u001b[0m\u001b[1;33m\u001b[0m\u001b[0m\n",
      "\u001b[1;32m~\\anaconda3\\lib\\site-packages\\requests\\models.py\u001b[0m in \u001b[0;36mjson\u001b[1;34m(self, **kwargs)\u001b[0m\n\u001b[0;32m    896\u001b[0m                     \u001b[1;31m# used.\u001b[0m\u001b[1;33m\u001b[0m\u001b[1;33m\u001b[0m\u001b[1;33m\u001b[0m\u001b[0m\n\u001b[0;32m    897\u001b[0m                     \u001b[1;32mpass\u001b[0m\u001b[1;33m\u001b[0m\u001b[1;33m\u001b[0m\u001b[0m\n\u001b[1;32m--> 898\u001b[1;33m         \u001b[1;32mreturn\u001b[0m \u001b[0mcomplexjson\u001b[0m\u001b[1;33m.\u001b[0m\u001b[0mloads\u001b[0m\u001b[1;33m(\u001b[0m\u001b[0mself\u001b[0m\u001b[1;33m.\u001b[0m\u001b[0mtext\u001b[0m\u001b[1;33m,\u001b[0m \u001b[1;33m**\u001b[0m\u001b[0mkwargs\u001b[0m\u001b[1;33m)\u001b[0m\u001b[1;33m\u001b[0m\u001b[1;33m\u001b[0m\u001b[0m\n\u001b[0m\u001b[0;32m    899\u001b[0m \u001b[1;33m\u001b[0m\u001b[0m\n\u001b[0;32m    900\u001b[0m     \u001b[1;33m@\u001b[0m\u001b[0mproperty\u001b[0m\u001b[1;33m\u001b[0m\u001b[1;33m\u001b[0m\u001b[0m\n",
      "\u001b[1;32m~\\anaconda3\\lib\\json\\__init__.py\u001b[0m in \u001b[0;36mloads\u001b[1;34m(s, cls, object_hook, parse_float, parse_int, parse_constant, object_pairs_hook, **kw)\u001b[0m\n\u001b[0;32m    355\u001b[0m             \u001b[0mparse_int\u001b[0m \u001b[1;32mis\u001b[0m \u001b[1;32mNone\u001b[0m \u001b[1;32mand\u001b[0m \u001b[0mparse_float\u001b[0m \u001b[1;32mis\u001b[0m \u001b[1;32mNone\u001b[0m \u001b[1;32mand\u001b[0m\u001b[1;33m\u001b[0m\u001b[1;33m\u001b[0m\u001b[0m\n\u001b[0;32m    356\u001b[0m             parse_constant is None and object_pairs_hook is None and not kw):\n\u001b[1;32m--> 357\u001b[1;33m         \u001b[1;32mreturn\u001b[0m \u001b[0m_default_decoder\u001b[0m\u001b[1;33m.\u001b[0m\u001b[0mdecode\u001b[0m\u001b[1;33m(\u001b[0m\u001b[0ms\u001b[0m\u001b[1;33m)\u001b[0m\u001b[1;33m\u001b[0m\u001b[1;33m\u001b[0m\u001b[0m\n\u001b[0m\u001b[0;32m    358\u001b[0m     \u001b[1;32mif\u001b[0m \u001b[0mcls\u001b[0m \u001b[1;32mis\u001b[0m \u001b[1;32mNone\u001b[0m\u001b[1;33m:\u001b[0m\u001b[1;33m\u001b[0m\u001b[1;33m\u001b[0m\u001b[0m\n\u001b[0;32m    359\u001b[0m         \u001b[0mcls\u001b[0m \u001b[1;33m=\u001b[0m \u001b[0mJSONDecoder\u001b[0m\u001b[1;33m\u001b[0m\u001b[1;33m\u001b[0m\u001b[0m\n",
      "\u001b[1;32m~\\anaconda3\\lib\\json\\decoder.py\u001b[0m in \u001b[0;36mdecode\u001b[1;34m(self, s, _w)\u001b[0m\n\u001b[0;32m    335\u001b[0m \u001b[1;33m\u001b[0m\u001b[0m\n\u001b[0;32m    336\u001b[0m         \"\"\"\n\u001b[1;32m--> 337\u001b[1;33m         \u001b[0mobj\u001b[0m\u001b[1;33m,\u001b[0m \u001b[0mend\u001b[0m \u001b[1;33m=\u001b[0m \u001b[0mself\u001b[0m\u001b[1;33m.\u001b[0m\u001b[0mraw_decode\u001b[0m\u001b[1;33m(\u001b[0m\u001b[0ms\u001b[0m\u001b[1;33m,\u001b[0m \u001b[0midx\u001b[0m\u001b[1;33m=\u001b[0m\u001b[0m_w\u001b[0m\u001b[1;33m(\u001b[0m\u001b[0ms\u001b[0m\u001b[1;33m,\u001b[0m \u001b[1;36m0\u001b[0m\u001b[1;33m)\u001b[0m\u001b[1;33m.\u001b[0m\u001b[0mend\u001b[0m\u001b[1;33m(\u001b[0m\u001b[1;33m)\u001b[0m\u001b[1;33m)\u001b[0m\u001b[1;33m\u001b[0m\u001b[1;33m\u001b[0m\u001b[0m\n\u001b[0m\u001b[0;32m    338\u001b[0m         \u001b[0mend\u001b[0m \u001b[1;33m=\u001b[0m \u001b[0m_w\u001b[0m\u001b[1;33m(\u001b[0m\u001b[0ms\u001b[0m\u001b[1;33m,\u001b[0m \u001b[0mend\u001b[0m\u001b[1;33m)\u001b[0m\u001b[1;33m.\u001b[0m\u001b[0mend\u001b[0m\u001b[1;33m(\u001b[0m\u001b[1;33m)\u001b[0m\u001b[1;33m\u001b[0m\u001b[1;33m\u001b[0m\u001b[0m\n\u001b[0;32m    339\u001b[0m         \u001b[1;32mif\u001b[0m \u001b[0mend\u001b[0m \u001b[1;33m!=\u001b[0m \u001b[0mlen\u001b[0m\u001b[1;33m(\u001b[0m\u001b[0ms\u001b[0m\u001b[1;33m)\u001b[0m\u001b[1;33m:\u001b[0m\u001b[1;33m\u001b[0m\u001b[1;33m\u001b[0m\u001b[0m\n",
      "\u001b[1;32m~\\anaconda3\\lib\\json\\decoder.py\u001b[0m in \u001b[0;36mraw_decode\u001b[1;34m(self, s, idx)\u001b[0m\n\u001b[0;32m    353\u001b[0m             \u001b[0mobj\u001b[0m\u001b[1;33m,\u001b[0m \u001b[0mend\u001b[0m \u001b[1;33m=\u001b[0m \u001b[0mself\u001b[0m\u001b[1;33m.\u001b[0m\u001b[0mscan_once\u001b[0m\u001b[1;33m(\u001b[0m\u001b[0ms\u001b[0m\u001b[1;33m,\u001b[0m \u001b[0midx\u001b[0m\u001b[1;33m)\u001b[0m\u001b[1;33m\u001b[0m\u001b[1;33m\u001b[0m\u001b[0m\n\u001b[0;32m    354\u001b[0m         \u001b[1;32mexcept\u001b[0m \u001b[0mStopIteration\u001b[0m \u001b[1;32mas\u001b[0m \u001b[0merr\u001b[0m\u001b[1;33m:\u001b[0m\u001b[1;33m\u001b[0m\u001b[1;33m\u001b[0m\u001b[0m\n\u001b[1;32m--> 355\u001b[1;33m             \u001b[1;32mraise\u001b[0m \u001b[0mJSONDecodeError\u001b[0m\u001b[1;33m(\u001b[0m\u001b[1;34m\"Expecting value\"\u001b[0m\u001b[1;33m,\u001b[0m \u001b[0ms\u001b[0m\u001b[1;33m,\u001b[0m \u001b[0merr\u001b[0m\u001b[1;33m.\u001b[0m\u001b[0mvalue\u001b[0m\u001b[1;33m)\u001b[0m \u001b[1;32mfrom\u001b[0m \u001b[1;32mNone\u001b[0m\u001b[1;33m\u001b[0m\u001b[1;33m\u001b[0m\u001b[0m\n\u001b[0m\u001b[0;32m    356\u001b[0m         \u001b[1;32mreturn\u001b[0m \u001b[0mobj\u001b[0m\u001b[1;33m,\u001b[0m \u001b[0mend\u001b[0m\u001b[1;33m\u001b[0m\u001b[1;33m\u001b[0m\u001b[0m\n",
      "\u001b[1;31mJSONDecodeError\u001b[0m: Expecting value: line 1 column 1 (char 0)"
     ]
    }
   ],
   "source": [
    "response = requests.get(rideGetRandom, count)\n",
    "data = response.json()\n",
    "[ride['rideId'] for ride in data]"
   ]
  },
  {
   "cell_type": "markdown",
   "metadata": {},
   "source": [
    "### get single ride by id"
   ]
  },
  {
   "cell_type": "code",
   "execution_count": 70,
   "metadata": {
    "scrolled": true
   },
   "outputs": [],
   "source": [
    "response = requests.get(rideGetSingle).json()"
   ]
  },
  {
   "cell_type": "code",
   "execution_count": 71,
   "metadata": {},
   "outputs": [
    {
     "data": {
      "text/html": [
       "<div>\n",
       "<style scoped>\n",
       "    .dataframe tbody tr th:only-of-type {\n",
       "        vertical-align: middle;\n",
       "    }\n",
       "\n",
       "    .dataframe tbody tr th {\n",
       "        vertical-align: top;\n",
       "    }\n",
       "\n",
       "    .dataframe thead th {\n",
       "        text-align: right;\n",
       "    }\n",
       "</style>\n",
       "<table border=\"1\" class=\"dataframe\">\n",
       "  <thead>\n",
       "    <tr style=\"text-align: right;\">\n",
       "      <th></th>\n",
       "      <th>Time</th>\n",
       "      <th>IMU A1</th>\n",
       "      <th>IMU A2</th>\n",
       "      <th>IMU A3</th>\n",
       "      <th>IMU G1</th>\n",
       "      <th>IMU G2</th>\n",
       "      <th>IMU G3</th>\n",
       "      <th>IMU M1</th>\n",
       "      <th>IMU M2</th>\n",
       "      <th>IMU M3</th>\n",
       "    </tr>\n",
       "  </thead>\n",
       "  <tbody>\n",
       "    <tr>\n",
       "      <th>0</th>\n",
       "      <td>1.414851e+06</td>\n",
       "      <td>-0.282516</td>\n",
       "      <td>-0.019154</td>\n",
       "      <td>2.317587</td>\n",
       "      <td>-21.50</td>\n",
       "      <td>23.00</td>\n",
       "      <td>2.5</td>\n",
       "      <td>-39.50</td>\n",
       "      <td>-171.00</td>\n",
       "      <td>186.00</td>\n",
       "    </tr>\n",
       "    <tr>\n",
       "      <th>1</th>\n",
       "      <td>1.414852e+06</td>\n",
       "      <td>0.268151</td>\n",
       "      <td>-0.282516</td>\n",
       "      <td>1.565808</td>\n",
       "      <td>7.00</td>\n",
       "      <td>15.25</td>\n",
       "      <td>16.5</td>\n",
       "      <td>-42.25</td>\n",
       "      <td>-165.25</td>\n",
       "      <td>195.25</td>\n",
       "    </tr>\n",
       "    <tr>\n",
       "      <th>2</th>\n",
       "      <td>1.414853e+06</td>\n",
       "      <td>-0.215478</td>\n",
       "      <td>-0.057461</td>\n",
       "      <td>1.719037</td>\n",
       "      <td>52.00</td>\n",
       "      <td>35.25</td>\n",
       "      <td>-2.0</td>\n",
       "      <td>-43.75</td>\n",
       "      <td>-171.75</td>\n",
       "      <td>189.75</td>\n",
       "    </tr>\n",
       "    <tr>\n",
       "      <th>3</th>\n",
       "      <td>1.414854e+06</td>\n",
       "      <td>-0.033519</td>\n",
       "      <td>0.052672</td>\n",
       "      <td>2.279280</td>\n",
       "      <td>10.25</td>\n",
       "      <td>39.50</td>\n",
       "      <td>52.5</td>\n",
       "      <td>-42.75</td>\n",
       "      <td>-169.75</td>\n",
       "      <td>184.75</td>\n",
       "    </tr>\n",
       "    <tr>\n",
       "      <th>4</th>\n",
       "      <td>1.414855e+06</td>\n",
       "      <td>-0.191536</td>\n",
       "      <td>1.364695</td>\n",
       "      <td>1.302446</td>\n",
       "      <td>-63.25</td>\n",
       "      <td>-45.75</td>\n",
       "      <td>103.0</td>\n",
       "      <td>-92.00</td>\n",
       "      <td>-158.00</td>\n",
       "      <td>209.50</td>\n",
       "    </tr>\n",
       "    <tr>\n",
       "      <th>...</th>\n",
       "      <td>...</td>\n",
       "      <td>...</td>\n",
       "      <td>...</td>\n",
       "      <td>...</td>\n",
       "      <td>...</td>\n",
       "      <td>...</td>\n",
       "      <td>...</td>\n",
       "      <td>...</td>\n",
       "      <td>...</td>\n",
       "      <td>...</td>\n",
       "    </tr>\n",
       "    <tr>\n",
       "      <th>3593</th>\n",
       "      <td>1.418422e+06</td>\n",
       "      <td>2.509123</td>\n",
       "      <td>-19.785683</td>\n",
       "      <td>-0.172383</td>\n",
       "      <td>-37.75</td>\n",
       "      <td>-13.75</td>\n",
       "      <td>29.5</td>\n",
       "      <td>-280.75</td>\n",
       "      <td>263.75</td>\n",
       "      <td>145.75</td>\n",
       "    </tr>\n",
       "    <tr>\n",
       "      <th>3594</th>\n",
       "      <td>1.418423e+06</td>\n",
       "      <td>1.999637</td>\n",
       "      <td>-19.115306</td>\n",
       "      <td>-0.379242</td>\n",
       "      <td>-2.20</td>\n",
       "      <td>7.00</td>\n",
       "      <td>-4.2</td>\n",
       "      <td>-272.60</td>\n",
       "      <td>272.20</td>\n",
       "      <td>156.20</td>\n",
       "    </tr>\n",
       "    <tr>\n",
       "      <th>3595</th>\n",
       "      <td>1.418424e+06</td>\n",
       "      <td>2.034114</td>\n",
       "      <td>-19.460071</td>\n",
       "      <td>-0.471179</td>\n",
       "      <td>18.80</td>\n",
       "      <td>6.20</td>\n",
       "      <td>18.2</td>\n",
       "      <td>-268.00</td>\n",
       "      <td>272.80</td>\n",
       "      <td>156.80</td>\n",
       "    </tr>\n",
       "    <tr>\n",
       "      <th>3596</th>\n",
       "      <td>1.418425e+06</td>\n",
       "      <td>1.754471</td>\n",
       "      <td>-19.425595</td>\n",
       "      <td>-0.639731</td>\n",
       "      <td>-20.20</td>\n",
       "      <td>12.60</td>\n",
       "      <td>24.2</td>\n",
       "      <td>-262.40</td>\n",
       "      <td>272.40</td>\n",
       "      <td>170.40</td>\n",
       "    </tr>\n",
       "    <tr>\n",
       "      <th>3597</th>\n",
       "      <td>1.418426e+06</td>\n",
       "      <td>1.367568</td>\n",
       "      <td>-20.620780</td>\n",
       "      <td>-0.704853</td>\n",
       "      <td>11.40</td>\n",
       "      <td>44.20</td>\n",
       "      <td>7.2</td>\n",
       "      <td>-253.60</td>\n",
       "      <td>282.00</td>\n",
       "      <td>167.60</td>\n",
       "    </tr>\n",
       "  </tbody>\n",
       "</table>\n",
       "<p>3598 rows × 10 columns</p>\n",
       "</div>"
      ],
      "text/plain": [
       "              Time    IMU A1     IMU A2    IMU A3  IMU G1  IMU G2  IMU G3  \\\n",
       "0     1.414851e+06 -0.282516  -0.019154  2.317587  -21.50   23.00     2.5   \n",
       "1     1.414852e+06  0.268151  -0.282516  1.565808    7.00   15.25    16.5   \n",
       "2     1.414853e+06 -0.215478  -0.057461  1.719037   52.00   35.25    -2.0   \n",
       "3     1.414854e+06 -0.033519   0.052672  2.279280   10.25   39.50    52.5   \n",
       "4     1.414855e+06 -0.191536   1.364695  1.302446  -63.25  -45.75   103.0   \n",
       "...            ...       ...        ...       ...     ...     ...     ...   \n",
       "3593  1.418422e+06  2.509123 -19.785683 -0.172383  -37.75  -13.75    29.5   \n",
       "3594  1.418423e+06  1.999637 -19.115306 -0.379242   -2.20    7.00    -4.2   \n",
       "3595  1.418424e+06  2.034114 -19.460071 -0.471179   18.80    6.20    18.2   \n",
       "3596  1.418425e+06  1.754471 -19.425595 -0.639731  -20.20   12.60    24.2   \n",
       "3597  1.418426e+06  1.367568 -20.620780 -0.704853   11.40   44.20     7.2   \n",
       "\n",
       "      IMU M1  IMU M2  IMU M3  \n",
       "0     -39.50 -171.00  186.00  \n",
       "1     -42.25 -165.25  195.25  \n",
       "2     -43.75 -171.75  189.75  \n",
       "3     -42.75 -169.75  184.75  \n",
       "4     -92.00 -158.00  209.50  \n",
       "...      ...     ...     ...  \n",
       "3593 -280.75  263.75  145.75  \n",
       "3594 -272.60  272.20  156.20  \n",
       "3595 -268.00  272.80  156.80  \n",
       "3596 -262.40  272.40  170.40  \n",
       "3597 -253.60  282.00  167.60  \n",
       "\n",
       "[3598 rows x 10 columns]"
      ]
     },
     "execution_count": 71,
     "metadata": {},
     "output_type": "execute_result"
    }
   ],
   "source": [
    "pd.read_csv(response['motionData'])"
   ]
  },
  {
   "cell_type": "markdown",
   "metadata": {},
   "source": [
    "### get multiple rides by location"
   ]
  },
  {
   "cell_type": "code",
   "execution_count": 14,
   "metadata": {
    "scrolled": true
   },
   "outputs": [
    {
     "data": {
      "text/plain": [
       "<Response [200]>"
      ]
     },
     "execution_count": 14,
     "metadata": {},
     "output_type": "execute_result"
    }
   ],
   "source": [
    "response = requests.get(rideGetLocation)\n",
    "response"
   ]
  },
  {
   "cell_type": "code",
   "execution_count": 15,
   "metadata": {},
   "outputs": [
    {
     "data": {
      "text/plain": [
       "['15692',\n",
       " '16380',\n",
       " '16345',\n",
       " '16318',\n",
       " '16302',\n",
       " '16301',\n",
       " '16298',\n",
       " '16290',\n",
       " '16289',\n",
       " '16250',\n",
       " '16249',\n",
       " '16239',\n",
       " '16238',\n",
       " '16237',\n",
       " '16225',\n",
       " '16222',\n",
       " '16221',\n",
       " '16212',\n",
       " '16211',\n",
       " '16197',\n",
       " '16195',\n",
       " '16192',\n",
       " '16191',\n",
       " '16178',\n",
       " '16177',\n",
       " '16173',\n",
       " '16171',\n",
       " '16169',\n",
       " '16168',\n",
       " '16167',\n",
       " '16161',\n",
       " '16158',\n",
       " '16148',\n",
       " '16137',\n",
       " '16135',\n",
       " '16134',\n",
       " '16128',\n",
       " '16126',\n",
       " '16115',\n",
       " '16106',\n",
       " '16103',\n",
       " '16101',\n",
       " '16100',\n",
       " '16099',\n",
       " '16081',\n",
       " '16079',\n",
       " '16076',\n",
       " '16000',\n",
       " '15996',\n",
       " '15980',\n",
       " '15972',\n",
       " '15963',\n",
       " '15962',\n",
       " '15945',\n",
       " '15859',\n",
       " '15857',\n",
       " '15856',\n",
       " '15854',\n",
       " '15848']"
      ]
     },
     "execution_count": 15,
     "metadata": {},
     "output_type": "execute_result"
    }
   ],
   "source": [
    "data = response.json()\n",
    "[ride['rideId'] for ride in data]"
   ]
  },
  {
   "cell_type": "markdown",
   "metadata": {},
   "source": [
    "### get multiple rides between start and end date"
   ]
  },
  {
   "cell_type": "code",
   "execution_count": 16,
   "metadata": {
    "scrolled": false
   },
   "outputs": [
    {
     "data": {
      "text/plain": [
       "['15692',\n",
       " '15983',\n",
       " '15980',\n",
       " '15978',\n",
       " '15972',\n",
       " '15963',\n",
       " '15962',\n",
       " '15953',\n",
       " '15945',\n",
       " '15859',\n",
       " '15858',\n",
       " '15857',\n",
       " '15856',\n",
       " '15854',\n",
       " '15848']"
      ]
     },
     "execution_count": 16,
     "metadata": {},
     "output_type": "execute_result"
    }
   ],
   "source": [
    "response = requests.get(rideGetDate)\n",
    "data = response.json()\n",
    "[ride['rideId'] for ride in data]"
   ]
  },
  {
   "cell_type": "markdown",
   "metadata": {},
   "source": [
    "## Get field(s) of ride(s)\n",
    "gets a single attribute of a ride in the database. If count = 1, then we only retrieve the specified ride id, if count > 1, retrieve that amount of rides randomly"
   ]
  },
  {
   "cell_type": "code",
   "execution_count": 74,
   "metadata": {},
   "outputs": [],
   "source": [
    "fields = 'motionData:oceanData'\n",
    "count = 5\n",
    "\n",
    "if testing:\n",
    "    fieldGetSingle = f'http://127.0.0.1:8000/ride/field-get/{rideId}/{fields}/' # creates new ride and upload all ride data to db\n",
    "    fieldGetRandom = f'http://127.0.0.1:8000/ride/random/field-get/{count}/{fields}/' # creates new ride and upload all ride data to db\n",
    "    fieldGetLocation = f'http://127.0.0.1:8000/ride/location/field-get/{location}/{fields}/' # creates new ride and upload all ride data to db\n",
    "    fieldGetDate = f'http://127.0.0.1:8000/ride/date/field-get/{startDate}/{endDate}/{fields}/' # creates new ride and upload all ride data to db\n",
    "else:\n",
    "    fieldGetSingle = f'https://lit-sands-95859.herokuapp.com/ride/field-get/{rideId}/{fields}/' # creates new ride and upload all ride data to db\n",
    "    fieldGetRandom = f'https://lit-sands-95859.herokuapp.com/ride/random/field-get/{count}/{fields}/' # creates new ride and upload all ride data to db\n",
    "    fieldGetLocation = f'https://lit-sands-95859.herokuapp.com/ride/location/field-get/{location}/{fields}/' # creates new ride and upload all ride data to db\n",
    "    fieldGetDate = f'https://lit-sands-95859.herokuapp.com/ride/date/field-get/{startDate}/{endDate}/{fields}/' # creates new ride and upload all ride data to db\n"
   ]
  },
  {
   "cell_type": "code",
   "execution_count": 75,
   "metadata": {
    "scrolled": true
   },
   "outputs": [
    {
     "data": {
      "text/plain": [
       "{}"
      ]
     },
     "execution_count": 75,
     "metadata": {},
     "output_type": "execute_result"
    }
   ],
   "source": [
    "response = requests.get(fieldGetSingle)\n",
    "response.json()"
   ]
  },
  {
   "cell_type": "markdown",
   "metadata": {},
   "source": [
    "### get fields of random rides"
   ]
  },
  {
   "cell_type": "code",
   "execution_count": 19,
   "metadata": {
    "scrolled": true
   },
   "outputs": [
    {
     "data": {
      "text/plain": [
       "[{'rideId': '16152',\n",
       "  'heightSmartfin': 0.6273824630263807,\n",
       "  'tempSmartfin': 16.164471215351814},\n",
       " {'rideId': '16221',\n",
       "  'heightSmartfin': 0.4319540899458727,\n",
       "  'tempSmartfin': 22.036060810810817},\n",
       " {'rideId': '15945',\n",
       "  'heightSmartfin': 0.3981912713268298,\n",
       "  'tempSmartfin': 15.729092307692307},\n",
       " {'rideId': '15978',\n",
       "  'heightSmartfin': 0.47447633441911763,\n",
       "  'tempSmartfin': 15.80256952380952},\n",
       " {'rideId': '16192',\n",
       "  'heightSmartfin': 0.49044612903692486,\n",
       "  'tempSmartfin': 23.37277222222222}]"
      ]
     },
     "execution_count": 19,
     "metadata": {},
     "output_type": "execute_result"
    }
   ],
   "source": [
    "response = requests.get(fieldGetRandom)\n",
    "response.json()['data']"
   ]
  },
  {
   "cell_type": "markdown",
   "metadata": {},
   "source": [
    "### get fields of rides by location"
   ]
  },
  {
   "cell_type": "code",
   "execution_count": 20,
   "metadata": {
    "scrolled": true
   },
   "outputs": [
    {
     "data": {
      "text/plain": [
       "[{'heightSmartfin': 0.4627763961677482, 'tempSmartfin': 20.044069023569023},\n",
       " {'heightSmartfin': 0.5590487240759578, 'tempSmartfin': 17.33151226158038},\n",
       " {'heightSmartfin': 0.9452605601171257, 'tempSmartfin': 17.275294392523367},\n",
       " {'heightSmartfin': 0.4584316394793693, 'tempSmartfin': 16.602045454545454},\n",
       " {'heightSmartfin': 0.5046445915309702, 'tempSmartfin': 19.160367231638414},\n",
       " {'heightSmartfin': 0.6496881974640748, 'tempSmartfin': 19.758730240549824},\n",
       " {'heightSmartfin': 0.3980063825082968, 'tempSmartfin': 19.13324066390042},\n",
       " {'heightSmartfin': 0.5119586229454351, 'tempSmartfin': 19.056392947103276},\n",
       " {'heightSmartfin': 0.42575072751492293, 'tempSmartfin': 19.359534626038784},\n",
       " {'heightSmartfin': 0.6827793676797396, 'tempSmartfin': 17.93609531772575},\n",
       " {'heightSmartfin': 0.4277936109265481, 'tempSmartfin': 20.342345646437995},\n",
       " {'heightSmartfin': 1.3478621251970722, 'tempSmartfin': 20.6526261682243},\n",
       " {'heightSmartfin': 0.6106659239662217, 'tempSmartfin': 21.28510817307692},\n",
       " {'heightSmartfin': 13.408752684422717, 'tempSmartfin': 21.42676334106729},\n",
       " {'heightSmartfin': 0.4966136986782835, 'tempSmartfin': 21.07598},\n",
       " {'heightSmartfin': 0.7600966185439203, 'tempSmartfin': 20.56265},\n",
       " {'heightSmartfin': 0.5349635351126728, 'tempSmartfin': 21.78315335753176},\n",
       " {'heightSmartfin': 0.5267541266279585, 'tempSmartfin': 23.673319786096258},\n",
       " {'heightSmartfin': 0.320888589939161, 'tempSmartfin': 25.567789612676055},\n",
       " {'heightSmartfin': 0.6206356862244736, 'tempSmartfin': 23.82446410684474},\n",
       " {'heightSmartfin': 0.6741870881720926, 'tempSmartfin': 26.088663551401872},\n",
       " {'heightSmartfin': 0.31457115052745704, 'tempSmartfin': 25.742544568245126},\n",
       " {'heightSmartfin': 0.32335430876906257, 'tempSmartfin': 25.798082524271845},\n",
       " {'heightSmartfin': 0.54981810136727, 'tempSmartfin': 21.660911729141475},\n",
       " {'heightSmartfin': 0.47084205191039, 'tempSmartfin': 21.986965897693075},\n",
       " {'heightSmartfin': 0.4319540899458727, 'tempSmartfin': 22.036060810810817},\n",
       " {'heightSmartfin': 0.4103879821867719, 'tempSmartfin': 20.533486486486485},\n",
       " {'heightSmartfin': 0.5029026028915657, 'tempSmartfin': 20.964627408993575},\n",
       " {'heightSmartfin': 0.8295003310935322, 'tempSmartfin': 22.022547263681588},\n",
       " {'heightSmartfin': 5.458667578375172, 'tempSmartfin': 23.12582252559727},\n",
       " {'heightSmartfin': 0.44575377137086303, 'tempSmartfin': 23.029375},\n",
       " {'heightSmartfin': 0.49044612903692486, 'tempSmartfin': 23.37277222222222},\n",
       " {'heightSmartfin': 0.5991598279960914, 'tempSmartfin': 22.986109090909093},\n",
       " {'heightSmartfin': 0.3239138692256915, 'tempSmartfin': 23.140972273567467},\n",
       " {'heightSmartfin': 0.4679436020698194, 'tempSmartfin': 18.86951451187335},\n",
       " {'heightSmartfin': 0.6216348169477769, 'tempSmartfin': 21.213252077562327},\n",
       " {'heightSmartfin': 0.5762497547269518, 'tempSmartfin': 20.65331929480901},\n",
       " {'heightSmartfin': 0.49591636864541633, 'tempSmartfin': 21.150633517495397},\n",
       " {'heightSmartfin': 0.5500457606026834, 'tempSmartfin': 20.26179865771812},\n",
       " {'heightSmartfin': 0.422189613665582, 'tempSmartfin': 19.33209245283019},\n",
       " {'heightSmartfin': 0.5290967091550641, 'tempSmartfin': 18.534223706176963},\n",
       " {'heightSmartfin': 0.5303050483699155, 'tempSmartfin': 22.757891089108906},\n",
       " {'heightSmartfin': 0.5393537657170508, 'tempSmartfin': 22.547958471760797},\n",
       " {'heightSmartfin': 0.9571022901502121, 'tempSmartfin': 19.8430507859734},\n",
       " {'heightSmartfin': 0.6267886754580873, 'tempSmartfin': 18.79893243243243},\n",
       " {'heightSmartfin': 0.6273824630263807, 'tempSmartfin': 16.164471215351814},\n",
       " {'heightSmartfin': 0.7424905027257902, 'tempSmartfin': 17.222762214983714},\n",
       " {'heightSmartfin': 0.37670778361373486, 'tempSmartfin': 19.85794616419919},\n",
       " {'heightSmartfin': 0.292369410048274, 'tempSmartfin': 18.939855392156865},\n",
       " {'heightSmartfin': 0.39656736009880406, 'tempSmartfin': 19.571597727272728},\n",
       " {'heightSmartfin': 0.36117532006700653, 'tempSmartfin': 19.904956435643566},\n",
       " {'heightSmartfin': 0.6370554722934997, 'tempSmartfin': 20.751139204545453},\n",
       " {'heightSmartfin': 0.5590969240352415, 'tempSmartfin': 20.460031837916066},\n",
       " {'heightSmartfin': 0.780947768660232, 'tempSmartfin': 17.57927047146402},\n",
       " {'heightSmartfin': 0.8697398594896543, 'tempSmartfin': 18.0425},\n",
       " {'heightSmartfin': 0.9494276331676084, 'tempSmartfin': 17.682581257413997},\n",
       " {'heightSmartfin': 0.42186578505971706, 'tempSmartfin': 18.607677667766776},\n",
       " {'heightSmartfin': 0.6082320081965215, 'tempSmartfin': 16.84068209255533},\n",
       " {'heightSmartfin': 5.8803668666855895, 'tempSmartfin': 18.571798095238094},\n",
       " {'heightSmartfin': 0.6379587389842524, 'tempSmartfin': 18.527776286353465},\n",
       " {'heightSmartfin': 0.7172927274501932, 'tempSmartfin': 18.33839882697947},\n",
       " {'heightSmartfin': 0.5719928009663098, 'tempSmartfin': 18.71829341317365},\n",
       " {'heightSmartfin': 0.5412308009993136, 'tempSmartfin': 18.3360584918957},\n",
       " {'heightSmartfin': 0.5709620498929476, 'tempSmartfin': 19.275597765363127},\n",
       " {'heightSmartfin': 0.6175169676761413, 'tempSmartfin': 19.27739926062847},\n",
       " {'heightSmartfin': 0.5076929158964522, 'tempSmartfin': 18.892421157684634},\n",
       " {'heightSmartfin': 0.42220742976990366, 'tempSmartfin': 19.21462909090909},\n",
       " {'heightSmartfin': 0.41188492125104315, 'tempSmartfin': 17.172475763016156},\n",
       " {'heightSmartfin': 0.5408493348769459, 'tempSmartfin': 15.83214629258517},\n",
       " {'heightSmartfin': 0.6304485142589018, 'tempSmartfin': 16.803871264367814},\n",
       " {'heightSmartfin': 1.2310790203744395, 'tempSmartfin': 15.413704805491992},\n",
       " {'heightSmartfin': 0.47447633441911763, 'tempSmartfin': 15.80256952380952},\n",
       " {'heightSmartfin': 0.6435360852109306, 'tempSmartfin': 14.210163999999999},\n",
       " {'heightSmartfin': 0.8760445295484257, 'tempSmartfin': 15.065393258426967},\n",
       " {'heightSmartfin': 0.4584329574188188, 'tempSmartfin': 15.612076023391813},\n",
       " {'heightSmartfin': 0.7418679161313633, 'tempSmartfin': 16.578817438692095},\n",
       " {'heightSmartfin': 0.3981912713268298, 'tempSmartfin': 15.729092307692307},\n",
       " {'heightSmartfin': 0.7226037488125758, 'tempSmartfin': 15.12332394366197},\n",
       " {'heightSmartfin': 0.6433389939696775, 'tempSmartfin': 15.260178041543025},\n",
       " {'heightSmartfin': 0.46273299498116394, 'tempSmartfin': 15.337380232558141},\n",
       " {'heightSmartfin': 0.3239601440036302, 'tempSmartfin': 15.171859649122807},\n",
       " {'heightSmartfin': 0.5801816260967135, 'tempSmartfin': 15.583867216117214},\n",
       " {'heightSmartfin': 0.5300296239462102, 'tempSmartfin': 15.232898047722344}]"
      ]
     },
     "execution_count": 20,
     "metadata": {},
     "output_type": "execute_result"
    }
   ],
   "source": [
    "response = requests.get(fieldGetLocation)\n",
    "response.json()['data']"
   ]
  },
  {
   "cell_type": "markdown",
   "metadata": {},
   "source": [
    "### get fields of rides by date"
   ]
  },
  {
   "cell_type": "code",
   "execution_count": 21,
   "metadata": {},
   "outputs": [
    {
     "data": {
      "text/plain": [
       "[{'heightSmartfin': 0.4627763961677482, 'tempSmartfin': 20.044069023569023},\n",
       " {'heightSmartfin': 0.6304485142589018, 'tempSmartfin': 16.803871264367814},\n",
       " {'heightSmartfin': 1.2310790203744395, 'tempSmartfin': 15.413704805491992},\n",
       " {'heightSmartfin': 0.47447633441911763, 'tempSmartfin': 15.80256952380952},\n",
       " {'heightSmartfin': 0.6435360852109306, 'tempSmartfin': 14.210163999999999},\n",
       " {'heightSmartfin': 0.8760445295484257, 'tempSmartfin': 15.065393258426967},\n",
       " {'heightSmartfin': 0.4584329574188188, 'tempSmartfin': 15.612076023391813},\n",
       " {'heightSmartfin': 0.7418679161313633, 'tempSmartfin': 16.578817438692095},\n",
       " {'heightSmartfin': 0.3981912713268298, 'tempSmartfin': 15.729092307692307},\n",
       " {'heightSmartfin': 0.7226037488125758, 'tempSmartfin': 15.12332394366197},\n",
       " {'heightSmartfin': 0.6433389939696775, 'tempSmartfin': 15.260178041543025},\n",
       " {'heightSmartfin': 0.46273299498116394, 'tempSmartfin': 15.337380232558141},\n",
       " {'heightSmartfin': 0.3239601440036302, 'tempSmartfin': 15.171859649122807},\n",
       " {'heightSmartfin': 0.5801816260967135, 'tempSmartfin': 15.583867216117214},\n",
       " {'heightSmartfin': 0.5300296239462102, 'tempSmartfin': 15.232898047722344}]"
      ]
     },
     "execution_count": 21,
     "metadata": {},
     "output_type": "execute_result"
    }
   ],
   "source": [
    "response = requests.get(fieldGetDate)\n",
    "response.json()['data']"
   ]
  },
  {
   "cell_type": "markdown",
   "metadata": {},
   "source": [
    "### list all active CDIP buoys"
   ]
  },
  {
   "cell_type": "code",
   "execution_count": 22,
   "metadata": {},
   "outputs": [],
   "source": [
    "if testing:\n",
    "    buoyList = 'http://127.0.0.1:8000/ride/buoy-list'\n",
    "else:\n",
    "    buoyList = 'https://lit-sands-95859.herokuapp.com/ride/buoy-list/'"
   ]
  },
  {
   "cell_type": "code",
   "execution_count": 23,
   "metadata": {
    "scrolled": true
   },
   "outputs": [
    {
     "data": {
      "text/plain": [
       "['028',\n",
       " '029',\n",
       " '036',\n",
       " '045',\n",
       " '067',\n",
       " '071',\n",
       " '076',\n",
       " '092',\n",
       " '094',\n",
       " '098',\n",
       " '100',\n",
       " '103',\n",
       " '106',\n",
       " '121',\n",
       " '132',\n",
       " '134',\n",
       " '139',\n",
       " '142',\n",
       " '143',\n",
       " '147',\n",
       " '150',\n",
       " '154',\n",
       " '155',\n",
       " '157',\n",
       " '158',\n",
       " '160',\n",
       " '162',\n",
       " '163',\n",
       " '166',\n",
       " '168',\n",
       " '171',\n",
       " '179',\n",
       " '181',\n",
       " '185',\n",
       " '187',\n",
       " '188',\n",
       " '189',\n",
       " '191',\n",
       " '192',\n",
       " '194',\n",
       " '196',\n",
       " '197',\n",
       " '198',\n",
       " '200',\n",
       " '201',\n",
       " '203',\n",
       " '209',\n",
       " '213',\n",
       " '214',\n",
       " '215',\n",
       " '217',\n",
       " '220',\n",
       " '221',\n",
       " '222',\n",
       " '224',\n",
       " '225',\n",
       " '226',\n",
       " '230',\n",
       " '233',\n",
       " '236',\n",
       " '238',\n",
       " '239',\n",
       " '240',\n",
       " '243',\n",
       " '244',\n",
       " '247',\n",
       " '430',\n",
       " '433']"
      ]
     },
     "execution_count": 23,
     "metadata": {},
     "output_type": "execute_result"
    }
   ],
   "source": [
    "response = requests.get(buoyList)\n",
    "data = response.json()\n",
    "data"
   ]
  },
  {
   "cell_type": "code",
   "execution_count": null,
   "metadata": {},
   "outputs": [],
   "source": []
  },
  {
   "cell_type": "code",
   "execution_count": null,
   "metadata": {},
   "outputs": [],
   "source": []
  }
 ],
 "metadata": {
  "kernelspec": {
   "display_name": "Python 3",
   "language": "python",
   "name": "python3"
  },
  "language_info": {
   "codemirror_mode": {
    "name": "ipython",
    "version": 3
   },
   "file_extension": ".py",
   "mimetype": "text/x-python",
   "name": "python",
   "nbconvert_exporter": "python",
   "pygments_lexer": "ipython3",
   "version": "3.8.3"
  }
 },
 "nbformat": 4,
 "nbformat_minor": 4
}
